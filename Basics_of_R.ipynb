{
 "cells": [
  {
   "cell_type": "markdown",
   "id": "bf402ef7-ca15-44fa-93fb-5485cdb75144",
   "metadata": {},
   "source": [
    "### print statements"
   ]
  },
  {
   "cell_type": "code",
   "execution_count": 19,
   "id": "eb7eefa9-89f4-4ea0-a505-2fffedcb77a5",
   "metadata": {},
   "outputs": [
    {
     "name": "stdout",
     "output_type": "stream",
     "text": [
      "[1] \"hello world\"\n",
      "[1] 1\n"
     ]
    }
   ],
   "source": [
    "print(\"hello world\")\n",
    "print(1)"
   ]
  },
  {
   "cell_type": "markdown",
   "id": "e4ac47cf-7fdd-41ba-93b6-fc51fee3d8ce",
   "metadata": {},
   "source": [
    "\n",
    "### assignments"
   ]
  },
  {
   "cell_type": "code",
   "execution_count": 20,
   "id": "b4a3b39f-16c8-4f89-bbf8-33710eb49d6e",
   "metadata": {},
   "outputs": [
    {
     "name": "stdout",
     "output_type": "stream",
     "text": [
      "[1] \"ATCGC\"\n",
      "[1] \"ATGCGAA\"\n",
      "[1] 20\n"
     ]
    }
   ],
   "source": [
    "dna <- \"ATCGC\"\n",
    "print(dna)\n",
    "\n",
    "dna_seq <- \"ATGCGAA\"\n",
    "print(dna_seq)\n",
    "\n",
    "number <- 20\n",
    "print(number)"
   ]
  },
  {
   "cell_type": "code",
   "execution_count": 3,
   "id": "1384bbad-b478-4482-a5d8-a4f19c000087",
   "metadata": {},
   "outputs": [
    {
     "name": "stderr",
     "output_type": "stream",
     "text": [
      "Updating HTML index of packages in '.Library'\n",
      "\n",
      "Making 'packages.html' ...\n",
      " done\n",
      "\n"
     ]
    }
   ],
   "source": [
    "#install packages\n",
    "\n",
    "install.packages(\"stringr\") #install stringr\n",
    "\n",
    "\n",
    "#load packages\n",
    "library(stringr)"
   ]
  },
  {
   "cell_type": "markdown",
   "id": "5e8765d9-4d84-40d0-8a97-0335f55acb8b",
   "metadata": {},
   "source": [
    "## Data Types\n",
    "\n",
    "### numeric data type"
   ]
  },
  {
   "cell_type": "code",
   "execution_count": 18,
   "id": "dc5fda53-ec0d-4350-b147-248b5bdce8c1",
   "metadata": {},
   "outputs": [
    {
     "data": {
      "text/html": [
       "'numeric'"
      ],
      "text/latex": [
       "'numeric'"
      ],
      "text/markdown": [
       "'numeric'"
      ],
      "text/plain": [
       "[1] \"numeric\""
      ]
     },
     "metadata": {},
     "output_type": "display_data"
    },
    {
     "data": {
      "text/html": [
       "'numeric'"
      ],
      "text/latex": [
       "'numeric'"
      ],
      "text/markdown": [
       "'numeric'"
      ],
      "text/plain": [
       "[1] \"numeric\""
      ]
     },
     "metadata": {},
     "output_type": "display_data"
    }
   ],
   "source": [
    "numeric_integer <- 10\n",
    "class(numeric_integer)\n",
    "\n",
    "numeric_float <- 1.2\n",
    "class(numeric_float)\n"
   ]
  },
  {
   "cell_type": "markdown",
   "id": "843aace2-a05e-42a2-8154-7b58e77f259b",
   "metadata": {},
   "source": [
    "### characters"
   ]
  },
  {
   "cell_type": "code",
   "execution_count": 5,
   "id": "6fc2a266-cf12-4758-b82e-73d4bc55f7c9",
   "metadata": {},
   "outputs": [
    {
     "data": {
      "text/html": [
       "'character'"
      ],
      "text/latex": [
       "'character'"
      ],
      "text/markdown": [
       "'character'"
      ],
      "text/plain": [
       "[1] \"character\""
      ]
     },
     "metadata": {},
     "output_type": "display_data"
    },
    {
     "data": {
      "text/html": [
       "'character'"
      ],
      "text/latex": [
       "'character'"
      ],
      "text/markdown": [
       "'character'"
      ],
      "text/plain": [
       "[1] \"character\""
      ]
     },
     "metadata": {},
     "output_type": "display_data"
    },
    {
     "data": {
      "text/html": [
       "7"
      ],
      "text/latex": [
       "7"
      ],
      "text/markdown": [
       "7"
      ],
      "text/plain": [
       "[1] 7"
      ]
     },
     "metadata": {},
     "output_type": "display_data"
    },
    {
     "name": "stdout",
     "output_type": "stream",
     "text": [
      "[1] 7\n",
      "[1] \"ATGCGAAGGG\"\n"
     ]
    }
   ],
   "source": [
    "#characters\n",
    "dna_seq <- \"ATGCGAA\"\n",
    "class(dna_seq)\n",
    "\n",
    "nucleotide <- 'A'\n",
    "class(nucleotide)\n",
    "\n",
    "nchar(dna_seq)\n",
    "seq_length <- nchar(dna_seq)\n",
    "print(seq_length)\n",
    "\n",
    "new_seq <- paste0(dna_seq, \"GGG\")\n",
    "print(new_seq)"
   ]
  },
  {
   "cell_type": "code",
   "execution_count": 8,
   "id": "8143b4ba-a337-4296-8d11-aa937ca888f1",
   "metadata": {},
   "outputs": [
    {
     "data": {
      "text/html": [
       "3"
      ],
      "text/latex": [
       "3"
      ],
      "text/markdown": [
       "3"
      ],
      "text/plain": [
       "[1] 3"
      ]
     },
     "metadata": {},
     "output_type": "display_data"
    }
   ],
   "source": [
    "dna_seq <- \"ATGCGAA\"\n",
    "\n",
    "#\"A\" bazından dizide kaç tane var?\n",
    "str_count(dna_seq, \"A\")\n"
   ]
  },
  {
   "cell_type": "code",
   "execution_count": 9,
   "id": "7f5e373d-51c6-4e65-88be-aedbe3e31be7",
   "metadata": {},
   "outputs": [
    {
     "name": "stdout",
     "output_type": "stream",
     "text": [
      "[1] 3\n"
     ]
    }
   ],
   "source": [
    "a_count <- str_count(dna_seq, \"A\")\n",
    "print(a_count)"
   ]
  },
  {
   "cell_type": "markdown",
   "id": "82c2579d-b136-4ba7-b4ad-25187acc7744",
   "metadata": {},
   "source": [
    "### logical data type\n"
   ]
  },
  {
   "cell_type": "code",
   "execution_count": 16,
   "id": "4bd17121-7056-4150-a2f8-8ad4e1e00aa1",
   "metadata": {},
   "outputs": [
    {
     "data": {
      "text/html": [
       "'logical'"
      ],
      "text/latex": [
       "'logical'"
      ],
      "text/markdown": [
       "'logical'"
      ],
      "text/plain": [
       "[1] \"logical\""
      ]
     },
     "metadata": {},
     "output_type": "display_data"
    }
   ],
   "source": [
    "logical_value <- TRUE\n",
    "logical_value2 <- T\n",
    "class(logical_value)"
   ]
  },
  {
   "cell_type": "markdown",
   "id": "330f12e0-f186-473a-aff5-fd98b853ed5e",
   "metadata": {},
   "source": [
    "- Burada logical_value ve logical_value2 değişkenlerine TRUE (doğru) değeri atanıyor.\n",
    "- R’de TRUE yazabileceğin gibi kısaltma olarak T de kullanabilirsin (ama önerilen tam yazmaktır, TRUE)."
   ]
  },
  {
   "cell_type": "code",
   "execution_count": 12,
   "id": "28df282c-3ba2-49c3-8f4c-6b0b436cd393",
   "metadata": {},
   "outputs": [
    {
     "data": {
      "text/html": [
       "TRUE"
      ],
      "text/latex": [
       "TRUE"
      ],
      "text/markdown": [
       "TRUE"
      ],
      "text/plain": [
       "[1] TRUE"
      ]
     },
     "metadata": {},
     "output_type": "display_data"
    }
   ],
   "source": [
    "logical_value3 <- FALSE\n",
    "\n",
    "a_count<10"
   ]
  },
  {
   "cell_type": "markdown",
   "id": "a330e478-9f78-4fca-a9a3-252cf34104b5",
   "metadata": {},
   "source": [
    "### Vector"
   ]
  },
  {
   "cell_type": "code",
   "execution_count": 21,
   "id": "d01122bb-9b70-421d-ac1d-9feab2cd66ff",
   "metadata": {},
   "outputs": [
    {
     "data": {
      "text/html": [
       "'numeric'"
      ],
      "text/latex": [
       "'numeric'"
      ],
      "text/markdown": [
       "'numeric'"
      ],
      "text/plain": [
       "[1] \"numeric\""
      ]
     },
     "metadata": {},
     "output_type": "display_data"
    }
   ],
   "source": [
    "num_vector <- c(1,2,3)\n",
    "class(num_vector)"
   ]
  },
  {
   "cell_type": "code",
   "execution_count": 22,
   "id": "9ad2b0fe-a1e3-4265-82f5-f59b4ba04bfc",
   "metadata": {},
   "outputs": [
    {
     "data": {
      "text/html": [
       "3"
      ],
      "text/latex": [
       "3"
      ],
      "text/markdown": [
       "3"
      ],
      "text/plain": [
       "[1] 3"
      ]
     },
     "metadata": {},
     "output_type": "display_data"
    }
   ],
   "source": [
    "length(num_vector)"
   ]
  },
  {
   "cell_type": "code",
   "execution_count": 26,
   "id": "c9974d57-f1df-4c21-b7d6-f4628d9eb818",
   "metadata": {},
   "outputs": [
    {
     "data": {
      "text/html": [
       "4"
      ],
      "text/latex": [
       "4"
      ],
      "text/markdown": [
       "4"
      ],
      "text/plain": [
       "[1] 4"
      ]
     },
     "metadata": {},
     "output_type": "display_data"
    },
    {
     "data": {
      "text/html": [
       "<style>\n",
       ".list-inline {list-style: none; margin:0; padding: 0}\n",
       ".list-inline>li {display: inline-block}\n",
       ".list-inline>li:not(:last-child)::after {content: \"\\00b7\"; padding: 0 .5ex}\n",
       "</style>\n",
       "<ol class=list-inline><li>3</li><li>3</li><li>3</li><li>3</li></ol>\n"
      ],
      "text/latex": [
       "\\begin{enumerate*}\n",
       "\\item 3\n",
       "\\item 3\n",
       "\\item 3\n",
       "\\item 3\n",
       "\\end{enumerate*}\n"
      ],
      "text/markdown": [
       "1. 3\n",
       "2. 3\n",
       "3. 3\n",
       "4. 3\n",
       "\n",
       "\n"
      ],
      "text/plain": [
       "[1] 3 3 3 3"
      ]
     },
     "metadata": {},
     "output_type": "display_data"
    }
   ],
   "source": [
    "char_vector <- c(\"ATG\", \"ATC\", \"GGC\", \"TGA\")\n",
    "length(char_vector)\n",
    "nchar(char_vector)"
   ]
  },
  {
   "cell_type": "markdown",
   "id": "36836c15-6ea9-473c-b16d-6c82006c7294",
   "metadata": {},
   "source": [
    "### Logical Vector"
   ]
  },
  {
   "cell_type": "code",
   "execution_count": 27,
   "id": "79ea8ae5-6463-4b5a-b013-5cbc66ce437f",
   "metadata": {},
   "outputs": [
    {
     "data": {
      "text/html": [
       "'logical'"
      ],
      "text/latex": [
       "'logical'"
      ],
      "text/markdown": [
       "'logical'"
      ],
      "text/plain": [
       "[1] \"logical\""
      ]
     },
     "metadata": {},
     "output_type": "display_data"
    }
   ],
   "source": [
    "logical_vector <- c(TRUE, TRUE, F, F, FALSE)\n",
    "class(logical_vector)"
   ]
  },
  {
   "cell_type": "markdown",
   "id": "cffa47b1-8882-422b-a1cd-ce77c338e4ae",
   "metadata": {},
   "source": [
    "### Lists"
   ]
  },
  {
   "cell_type": "code",
   "execution_count": 28,
   "id": "b8777ff6-edef-4078-b8c5-cc095c5cb0a4",
   "metadata": {},
   "outputs": [
    {
     "data": {
      "text/html": [
       "'list'"
      ],
      "text/latex": [
       "'list'"
      ],
      "text/markdown": [
       "'list'"
      ],
      "text/plain": [
       "[1] \"list\""
      ]
     },
     "metadata": {},
     "output_type": "display_data"
    }
   ],
   "source": [
    "list_example <- list(char_vector, logical_vector, num_vector)\n",
    "class(list_example)"
   ]
  },
  {
   "cell_type": "code",
   "execution_count": 29,
   "id": "f07e97df-580c-403c-8f9e-04939c54ff7c",
   "metadata": {},
   "outputs": [
    {
     "data": {
      "text/html": [
       "<ol>\n",
       "\t<li><style>\n",
       ".list-inline {list-style: none; margin:0; padding: 0}\n",
       ".list-inline>li {display: inline-block}\n",
       ".list-inline>li:not(:last-child)::after {content: \"\\00b7\"; padding: 0 .5ex}\n",
       "</style>\n",
       "<ol class=list-inline><li>'ATG'</li><li>'ATC'</li><li>'GGC'</li><li>'TGA'</li></ol>\n",
       "</li>\n",
       "\t<li><style>\n",
       ".list-inline {list-style: none; margin:0; padding: 0}\n",
       ".list-inline>li {display: inline-block}\n",
       ".list-inline>li:not(:last-child)::after {content: \"\\00b7\"; padding: 0 .5ex}\n",
       "</style>\n",
       "<ol class=list-inline><li>TRUE</li><li>TRUE</li><li>FALSE</li><li>FALSE</li><li>FALSE</li></ol>\n",
       "</li>\n",
       "\t<li><style>\n",
       ".list-inline {list-style: none; margin:0; padding: 0}\n",
       ".list-inline>li {display: inline-block}\n",
       ".list-inline>li:not(:last-child)::after {content: \"\\00b7\"; padding: 0 .5ex}\n",
       "</style>\n",
       "<ol class=list-inline><li>1</li><li>2</li><li>3</li></ol>\n",
       "</li>\n",
       "</ol>\n"
      ],
      "text/latex": [
       "\\begin{enumerate}\n",
       "\\item \\begin{enumerate*}\n",
       "\\item 'ATG'\n",
       "\\item 'ATC'\n",
       "\\item 'GGC'\n",
       "\\item 'TGA'\n",
       "\\end{enumerate*}\n",
       "\n",
       "\\item \\begin{enumerate*}\n",
       "\\item TRUE\n",
       "\\item TRUE\n",
       "\\item FALSE\n",
       "\\item FALSE\n",
       "\\item FALSE\n",
       "\\end{enumerate*}\n",
       "\n",
       "\\item \\begin{enumerate*}\n",
       "\\item 1\n",
       "\\item 2\n",
       "\\item 3\n",
       "\\end{enumerate*}\n",
       "\n",
       "\\end{enumerate}\n"
      ],
      "text/markdown": [
       "1. 1. 'ATG'\n",
       "2. 'ATC'\n",
       "3. 'GGC'\n",
       "4. 'TGA'\n",
       "\n",
       "\n",
       "\n",
       "2. 1. TRUE\n",
       "2. TRUE\n",
       "3. FALSE\n",
       "4. FALSE\n",
       "5. FALSE\n",
       "\n",
       "\n",
       "\n",
       "3. 1. 1\n",
       "2. 2\n",
       "3. 3\n",
       "\n",
       "\n",
       "\n",
       "\n",
       "\n"
      ],
      "text/plain": [
       "[[1]]\n",
       "[1] \"ATG\" \"ATC\" \"GGC\" \"TGA\"\n",
       "\n",
       "[[2]]\n",
       "[1]  TRUE  TRUE FALSE FALSE FALSE\n",
       "\n",
       "[[3]]\n",
       "[1] 1 2 3\n"
      ]
     },
     "metadata": {},
     "output_type": "display_data"
    }
   ],
   "source": [
    "list_example"
   ]
  },
  {
   "cell_type": "code",
   "execution_count": 30,
   "id": "a6b9398c-25aa-4ac5-a30d-7d5f098a1c0c",
   "metadata": {},
   "outputs": [
    {
     "data": {
      "text/html": [
       "3"
      ],
      "text/latex": [
       "3"
      ],
      "text/markdown": [
       "3"
      ],
      "text/plain": [
       "[1] 3"
      ]
     },
     "metadata": {},
     "output_type": "display_data"
    }
   ],
   "source": [
    "length(list_example)"
   ]
  },
  {
   "cell_type": "markdown",
   "id": "68ae5a0a-e047-4a00-9bbc-952eb43eecd8",
   "metadata": {},
   "source": [
    "### indexing"
   ]
  },
  {
   "cell_type": "code",
   "execution_count": 31,
   "id": "e33a624a-71fe-41cb-80a9-9fd3d468eb2c",
   "metadata": {},
   "outputs": [
    {
     "data": {
      "text/html": [
       "<ol>\n",
       "\t<li><style>\n",
       ".list-inline {list-style: none; margin:0; padding: 0}\n",
       ".list-inline>li {display: inline-block}\n",
       ".list-inline>li:not(:last-child)::after {content: \"\\00b7\"; padding: 0 .5ex}\n",
       "</style>\n",
       "<ol class=list-inline><li>'ATG'</li><li>'ATC'</li><li>'GGC'</li><li>'TGA'</li></ol>\n",
       "</li>\n",
       "</ol>\n"
      ],
      "text/latex": [
       "\\begin{enumerate}\n",
       "\\item \\begin{enumerate*}\n",
       "\\item 'ATG'\n",
       "\\item 'ATC'\n",
       "\\item 'GGC'\n",
       "\\item 'TGA'\n",
       "\\end{enumerate*}\n",
       "\n",
       "\\end{enumerate}\n"
      ],
      "text/markdown": [
       "1. 1. 'ATG'\n",
       "2. 'ATC'\n",
       "3. 'GGC'\n",
       "4. 'TGA'\n",
       "\n",
       "\n",
       "\n",
       "\n",
       "\n"
      ],
      "text/plain": [
       "[[1]]\n",
       "[1] \"ATG\" \"ATC\" \"GGC\" \"TGA\"\n"
      ]
     },
     "metadata": {},
     "output_type": "display_data"
    }
   ],
   "source": [
    "list_example[1]"
   ]
  },
  {
   "cell_type": "code",
   "execution_count": 32,
   "id": "be79dedb-a177-41cf-ba08-ddb67ff04b58",
   "metadata": {},
   "outputs": [
    {
     "data": {
      "text/html": [
       "'ATG'"
      ],
      "text/latex": [
       "'ATG'"
      ],
      "text/markdown": [
       "'ATG'"
      ],
      "text/plain": [
       "[1] \"ATG\""
      ]
     },
     "metadata": {},
     "output_type": "display_data"
    }
   ],
   "source": [
    "char_vector[1]"
   ]
  },
  {
   "cell_type": "markdown",
   "id": "cf50387a-800f-4f5c-b119-42f8e76d082f",
   "metadata": {},
   "source": [
    "### Dataframe"
   ]
  },
  {
   "cell_type": "code",
   "execution_count": 33,
   "id": "a6f05c36-b2b9-4f5d-bd35-ccd757529bb9",
   "metadata": {},
   "outputs": [],
   "source": [
    "char_vector <- c(\"A\",\"G\",\"T\",\"C\")\n",
    "num_vector <- c(1,2,3,4)\n",
    "logical_vector <- c(T,T,F,F)"
   ]
  },
  {
   "cell_type": "code",
   "execution_count": 34,
   "id": "e8f5d995-e02d-485e-baf8-938fee3f970f",
   "metadata": {},
   "outputs": [
    {
     "data": {
      "text/html": [
       "'data.frame'"
      ],
      "text/latex": [
       "'data.frame'"
      ],
      "text/markdown": [
       "'data.frame'"
      ],
      "text/plain": [
       "[1] \"data.frame\""
      ]
     },
     "metadata": {},
     "output_type": "display_data"
    }
   ],
   "source": [
    "df <- data.frame(Numeric=num_vector, Logical=logical_vector, Character=char_vector)\n",
    "class(df)"
   ]
  },
  {
   "cell_type": "code",
   "execution_count": 35,
   "id": "5b87a55e-ce5f-41ab-8db1-91b3a35ee38d",
   "metadata": {},
   "outputs": [
    {
     "name": "stdout",
     "output_type": "stream",
     "text": [
      "  Numeric Logical Character\n",
      "1       1    TRUE         A\n",
      "2       2    TRUE         G\n",
      "3       3   FALSE         T\n",
      "4       4   FALSE         C\n"
     ]
    }
   ],
   "source": [
    "print(df)"
   ]
  },
  {
   "cell_type": "markdown",
   "id": "4c3ff8bb-94b5-4930-b4a4-358b85dd0bfb",
   "metadata": {},
   "source": [
    "## Basic Arithmetic Operations\n",
    "\n",
    "### Addition"
   ]
  },
  {
   "cell_type": "code",
   "execution_count": 36,
   "id": "e5885018-e341-4d7d-a82a-8418e8bbc6b2",
   "metadata": {},
   "outputs": [
    {
     "data": {
      "text/html": [
       "10"
      ],
      "text/latex": [
       "10"
      ],
      "text/markdown": [
       "10"
      ],
      "text/plain": [
       "[1] 10"
      ]
     },
     "metadata": {},
     "output_type": "display_data"
    },
    {
     "name": "stdout",
     "output_type": "stream",
     "text": [
      "[1] 10\n"
     ]
    }
   ],
   "source": [
    "3+7\n",
    "total <- 3+7\n",
    "print(total)"
   ]
  },
  {
   "cell_type": "markdown",
   "id": "e28f5fdd-dbb5-4150-b646-9d6d03d337f6",
   "metadata": {},
   "source": [
    "### Substraction"
   ]
  },
  {
   "cell_type": "code",
   "execution_count": 37,
   "id": "80c4d170-b5a6-4765-b6d8-bf962aef15ad",
   "metadata": {},
   "outputs": [
    {
     "data": {
      "text/html": [
       "4"
      ],
      "text/latex": [
       "4"
      ],
      "text/markdown": [
       "4"
      ],
      "text/plain": [
       "[1] 4"
      ]
     },
     "metadata": {},
     "output_type": "display_data"
    }
   ],
   "source": [
    "10-6"
   ]
  },
  {
   "cell_type": "markdown",
   "id": "6aaa9768-ebd7-41c4-8e61-504f12f697f0",
   "metadata": {},
   "source": [
    "### Multiplication"
   ]
  },
  {
   "cell_type": "code",
   "execution_count": 38,
   "id": "d0d17575-5907-4a42-bd67-c9ec9433477a",
   "metadata": {},
   "outputs": [
    {
     "data": {
      "text/html": [
       "6"
      ],
      "text/latex": [
       "6"
      ],
      "text/markdown": [
       "6"
      ],
      "text/plain": [
       "[1] 6"
      ]
     },
     "metadata": {},
     "output_type": "display_data"
    }
   ],
   "source": [
    "3*2"
   ]
  },
  {
   "cell_type": "markdown",
   "id": "242cb074-9ccb-4d50-9b6e-e62578f45ae9",
   "metadata": {},
   "source": [
    "### Division"
   ]
  },
  {
   "cell_type": "code",
   "execution_count": 40,
   "id": "73ca5d85-0ab3-478b-88ae-9cefcad48afc",
   "metadata": {},
   "outputs": [
    {
     "data": {
      "text/html": [
       "5"
      ],
      "text/latex": [
       "5"
      ],
      "text/markdown": [
       "5"
      ],
      "text/plain": [
       "[1] 5"
      ]
     },
     "metadata": {},
     "output_type": "display_data"
    },
    {
     "data": {
      "text/html": [
       "2.5"
      ],
      "text/latex": [
       "2.5"
      ],
      "text/markdown": [
       "2.5"
      ],
      "text/plain": [
       "[1] 2.5"
      ]
     },
     "metadata": {},
     "output_type": "display_data"
    }
   ],
   "source": [
    "10/2\n",
    "5/2"
   ]
  },
  {
   "cell_type": "markdown",
   "id": "49ca8e8b-1e3f-456e-ba66-e85a7f349f8d",
   "metadata": {},
   "source": [
    "### Calculating gc content"
   ]
  },
  {
   "cell_type": "code",
   "execution_count": 55,
   "id": "3af924a8-e7e1-463d-9548-59c67311b0d6",
   "metadata": {},
   "outputs": [],
   "source": [
    "dna_seq <- \"GTAAATGCCGA\""
   ]
  },
  {
   "cell_type": "code",
   "execution_count": 57,
   "id": "8a7694ce-a87d-4261-8847-32e3bdc1e302",
   "metadata": {},
   "outputs": [],
   "source": [
    "seq_length <- nchar(dna_seq)"
   ]
  },
  {
   "cell_type": "code",
   "execution_count": 60,
   "id": "85ad5ee9-6d7e-4d2b-8ca2-71e006d9d09e",
   "metadata": {},
   "outputs": [],
   "source": [
    "g_count <- str_count(dna_seq, 'G')\n",
    "c_count <- str_count(dna_seq, 'C')"
   ]
  },
  {
   "cell_type": "code",
   "execution_count": 62,
   "id": "7914f60b-fdfe-4fb3-89f3-0d0300e7335e",
   "metadata": {},
   "outputs": [],
   "source": [
    "gc_content <- (g_count + c_count) / seq_length *100"
   ]
  },
  {
   "cell_type": "code",
   "execution_count": 65,
   "id": "4b0ca487-bd2a-484e-a8af-92909e4120ce",
   "metadata": {},
   "outputs": [
    {
     "name": "stdout",
     "output_type": "stream",
     "text": [
      "[1] 3\n",
      "[1] 2\n",
      "[1] 45.45455\n"
     ]
    }
   ],
   "source": [
    "print(g_count)\n",
    "print(c_count)\n",
    "print(gc_content)"
   ]
  },
  {
   "cell_type": "markdown",
   "id": "3feb23e3-d54a-4cd9-abcb-6625bfcc3b06",
   "metadata": {},
   "source": [
    "### Conditional Statements"
   ]
  },
  {
   "cell_type": "code",
   "execution_count": 47,
   "id": "4d6695b3-ee26-450d-bebf-e9d7482e961b",
   "metadata": {},
   "outputs": [
    {
     "name": "stdout",
     "output_type": "stream",
     "text": [
      "[1] 7\n"
     ]
    }
   ],
   "source": [
    "dna_seq1 <- \"ATAGTTA\"\n",
    "dna_seq2 <- \"ATA\"\n",
    "\n",
    "seq_length <- nchar(dna_seq1)\n",
    "print(seq_length)"
   ]
  },
  {
   "cell_type": "code",
   "execution_count": 45,
   "id": "464428fa-33c3-4407-acce-3ff46e353df6",
   "metadata": {},
   "outputs": [
    {
     "name": "stdout",
     "output_type": "stream",
     "text": [
      "[1] \"long sequence\"\n"
     ]
    }
   ],
   "source": [
    "if (seq_length > 6) {\n",
    "    print('long sequence')\n",
    "    }"
   ]
  },
  {
   "cell_type": "code",
   "execution_count": 49,
   "id": "5474c70e-1e4a-4303-84b4-3fc7106d0fed",
   "metadata": {},
   "outputs": [
    {
     "name": "stdout",
     "output_type": "stream",
     "text": [
      "[1] 3\n"
     ]
    }
   ],
   "source": [
    "seq_length2 <- nchar(dna_seq2)\n",
    "print(seq_length2)"
   ]
  },
  {
   "cell_type": "code",
   "execution_count": 50,
   "id": "4d77859d-83af-44d1-b990-5506a1ce39f4",
   "metadata": {},
   "outputs": [
    {
     "name": "stdout",
     "output_type": "stream",
     "text": [
      "[1] \"short sequence\"\n"
     ]
    }
   ],
   "source": [
    "if (seq_length2 > 6) {\n",
    "    print('long sequence')\n",
    "    } else {\n",
    "    print('short sequence')\n",
    "    }"
   ]
  },
  {
   "cell_type": "markdown",
   "id": "d5017b89-ab60-4c80-bea9-e9af5d43a148",
   "metadata": {},
   "source": [
    "### Loops"
   ]
  },
  {
   "cell_type": "code",
   "execution_count": 72,
   "id": "9f1d3928-654a-4203-a578-6dc9179d9315",
   "metadata": {},
   "outputs": [
    {
     "name": "stdout",
     "output_type": "stream",
     "text": [
      "[1] \"A\"\n",
      "[1] \"T\"\n",
      "[1] \"G\"\n",
      "[1] \"C\"\n"
     ]
    }
   ],
   "source": [
    "nucleotides <- c(\"A\",\"T\",\"G\",\"C\")\n",
    "\n",
    "for ( base in nucleotides) {\n",
    "    print(base)\n",
    "    }"
   ]
  },
  {
   "cell_type": "markdown",
   "id": "8fccf8d8-ef29-4997-a5f2-78f0a9eaff1f",
   "metadata": {},
   "source": [
    "### Functions"
   ]
  },
  {
   "cell_type": "code",
   "execution_count": 66,
   "id": "fec2ee41-aea0-4a58-a118-b5dc3e3f4917",
   "metadata": {},
   "outputs": [],
   "source": [
    "calculate_gc_content <- function(sequence) {\n",
    "    seq_length <- nchar(sequence)\n",
    "    g_count <- str_count(sequence, 'G')\n",
    "    c_count <- str_count(sequence, 'C')\n",
    "    gc_content <- (g_count + c_count) / seq_length * 100\n",
    "\n",
    "    print(gc_content)\n",
    "    }\n"
   ]
  },
  {
   "cell_type": "code",
   "execution_count": 67,
   "id": "c10dccc6-5ae5-48e8-a026-57668e0efafc",
   "metadata": {},
   "outputs": [
    {
     "name": "stdout",
     "output_type": "stream",
     "text": [
      "[1] 50\n"
     ]
    }
   ],
   "source": [
    "dna_seq <- \"ATGCGA\"\n",
    "calculate_gc_content(dna_seq)"
   ]
  },
  {
   "cell_type": "markdown",
   "id": "e5f8f9e9-b9fd-40ea-bdd1-dcac6c9875ba",
   "metadata": {},
   "source": [
    "## Data Manipulation in R\n",
    "\n",
    "### import and export data"
   ]
  },
  {
   "cell_type": "code",
   "execution_count": 70,
   "id": "dd1846ba-f284-4dc7-ae5c-1092466d04c3",
   "metadata": {},
   "outputs": [],
   "source": [
    "data_source= \"https://raw.githubusercontent.com/Yashangchekar/-Clinical-Data-Analysis-for-Malaria-Suspected-Cases-Unraveling-Diagnostic-Patterns-/refs/heads/main/malaria_clin_data.csv\""
   ]
  },
  {
   "cell_type": "code",
   "execution_count": 71,
   "id": "10802bad-1194-44ba-bae2-d309b16515fd",
   "metadata": {},
   "outputs": [],
   "source": [
    "case_data <- read.csv(data_source)"
   ]
  },
  {
   "cell_type": "markdown",
   "id": "89366c51-ee38-4bc3-a512-9414794fc6ae",
   "metadata": {},
   "source": [
    "### explore"
   ]
  },
  {
   "cell_type": "code",
   "execution_count": 74,
   "id": "7dc39bb2-51b7-484b-a167-ee9704797c3b",
   "metadata": {},
   "outputs": [
    {
     "data": {
      "text/html": [
       "'data.frame'"
      ],
      "text/latex": [
       "'data.frame'"
      ],
      "text/markdown": [
       "'data.frame'"
      ],
      "text/plain": [
       "[1] \"data.frame\""
      ]
     },
     "metadata": {},
     "output_type": "display_data"
    },
    {
     "data": {
      "text/html": [
       "<style>\n",
       ".list-inline {list-style: none; margin:0; padding: 0}\n",
       ".list-inline>li {display: inline-block}\n",
       ".list-inline>li:not(:last-child)::after {content: \"\\00b7\"; padding: 0 .5ex}\n",
       "</style>\n",
       "<ol class=list-inline><li>2207</li><li>34</li></ol>\n"
      ],
      "text/latex": [
       "\\begin{enumerate*}\n",
       "\\item 2207\n",
       "\\item 34\n",
       "\\end{enumerate*}\n"
      ],
      "text/markdown": [
       "1. 2207\n",
       "2. 34\n",
       "\n",
       "\n"
      ],
      "text/plain": [
       "[1] 2207   34"
      ]
     },
     "metadata": {},
     "output_type": "display_data"
    }
   ],
   "source": [
    "class(case_data)\n",
    "dim(case_data)"
   ]
  },
  {
   "cell_type": "code",
   "execution_count": 75,
   "id": "a8d16f75-adc3-42ca-bd3a-afb1f008e0b6",
   "metadata": {},
   "outputs": [
    {
     "data": {
      "text/html": [
       "<style>\n",
       ".list-inline {list-style: none; margin:0; padding: 0}\n",
       ".list-inline>li {display: inline-block}\n",
       ".list-inline>li:not(:last-child)::after {content: \"\\00b7\"; padding: 0 .5ex}\n",
       "</style>\n",
       "<ol class=list-inline><li>'SampleID'</li><li>'consent_given'</li><li>'location'</li><li>'Enrollment_Year'</li><li>'bednet'</li><li>'fever_symptom'</li><li>'temperature'</li><li>'Suspected_Organism'</li><li>'Suspected_infection'</li><li>'RDT'</li><li>'Blood_culture'</li><li>'Urine_culture'</li><li>'Taq_man_PCR'</li><li>'parasite_density'</li><li>'Microscopy'</li><li>'Laboratory_Results'</li><li>'Clinical_Diagnosis'</li><li>'wbc_count'</li><li>'rbc_count'</li><li>'hb_level'</li><li>'hematocrit'</li><li>'mean_cell_volume'</li><li>'mean_corp_hb'</li><li>'mean_cell_hb_conc'</li><li>'platelet_count'</li><li>'platelet_distr_width'</li><li>'mean_platelet_vl'</li><li>'neutrophils_percent'</li><li>'lymphocytes_percent'</li><li>'mixed_cells_percent'</li><li>'neutrophils_count'</li><li>'lymphocytes_count'</li><li>'mixed_cells_count'</li><li>'RBC_dist_width_Percent'</li></ol>\n"
      ],
      "text/latex": [
       "\\begin{enumerate*}\n",
       "\\item 'SampleID'\n",
       "\\item 'consent\\_given'\n",
       "\\item 'location'\n",
       "\\item 'Enrollment\\_Year'\n",
       "\\item 'bednet'\n",
       "\\item 'fever\\_symptom'\n",
       "\\item 'temperature'\n",
       "\\item 'Suspected\\_Organism'\n",
       "\\item 'Suspected\\_infection'\n",
       "\\item 'RDT'\n",
       "\\item 'Blood\\_culture'\n",
       "\\item 'Urine\\_culture'\n",
       "\\item 'Taq\\_man\\_PCR'\n",
       "\\item 'parasite\\_density'\n",
       "\\item 'Microscopy'\n",
       "\\item 'Laboratory\\_Results'\n",
       "\\item 'Clinical\\_Diagnosis'\n",
       "\\item 'wbc\\_count'\n",
       "\\item 'rbc\\_count'\n",
       "\\item 'hb\\_level'\n",
       "\\item 'hematocrit'\n",
       "\\item 'mean\\_cell\\_volume'\n",
       "\\item 'mean\\_corp\\_hb'\n",
       "\\item 'mean\\_cell\\_hb\\_conc'\n",
       "\\item 'platelet\\_count'\n",
       "\\item 'platelet\\_distr\\_width'\n",
       "\\item 'mean\\_platelet\\_vl'\n",
       "\\item 'neutrophils\\_percent'\n",
       "\\item 'lymphocytes\\_percent'\n",
       "\\item 'mixed\\_cells\\_percent'\n",
       "\\item 'neutrophils\\_count'\n",
       "\\item 'lymphocytes\\_count'\n",
       "\\item 'mixed\\_cells\\_count'\n",
       "\\item 'RBC\\_dist\\_width\\_Percent'\n",
       "\\end{enumerate*}\n"
      ],
      "text/markdown": [
       "1. 'SampleID'\n",
       "2. 'consent_given'\n",
       "3. 'location'\n",
       "4. 'Enrollment_Year'\n",
       "5. 'bednet'\n",
       "6. 'fever_symptom'\n",
       "7. 'temperature'\n",
       "8. 'Suspected_Organism'\n",
       "9. 'Suspected_infection'\n",
       "10. 'RDT'\n",
       "11. 'Blood_culture'\n",
       "12. 'Urine_culture'\n",
       "13. 'Taq_man_PCR'\n",
       "14. 'parasite_density'\n",
       "15. 'Microscopy'\n",
       "16. 'Laboratory_Results'\n",
       "17. 'Clinical_Diagnosis'\n",
       "18. 'wbc_count'\n",
       "19. 'rbc_count'\n",
       "20. 'hb_level'\n",
       "21. 'hematocrit'\n",
       "22. 'mean_cell_volume'\n",
       "23. 'mean_corp_hb'\n",
       "24. 'mean_cell_hb_conc'\n",
       "25. 'platelet_count'\n",
       "26. 'platelet_distr_width'\n",
       "27. 'mean_platelet_vl'\n",
       "28. 'neutrophils_percent'\n",
       "29. 'lymphocytes_percent'\n",
       "30. 'mixed_cells_percent'\n",
       "31. 'neutrophils_count'\n",
       "32. 'lymphocytes_count'\n",
       "33. 'mixed_cells_count'\n",
       "34. 'RBC_dist_width_Percent'\n",
       "\n",
       "\n"
      ],
      "text/plain": [
       " [1] \"SampleID\"               \"consent_given\"          \"location\"              \n",
       " [4] \"Enrollment_Year\"        \"bednet\"                 \"fever_symptom\"         \n",
       " [7] \"temperature\"            \"Suspected_Organism\"     \"Suspected_infection\"   \n",
       "[10] \"RDT\"                    \"Blood_culture\"          \"Urine_culture\"         \n",
       "[13] \"Taq_man_PCR\"            \"parasite_density\"       \"Microscopy\"            \n",
       "[16] \"Laboratory_Results\"     \"Clinical_Diagnosis\"     \"wbc_count\"             \n",
       "[19] \"rbc_count\"              \"hb_level\"               \"hematocrit\"            \n",
       "[22] \"mean_cell_volume\"       \"mean_corp_hb\"           \"mean_cell_hb_conc\"     \n",
       "[25] \"platelet_count\"         \"platelet_distr_width\"   \"mean_platelet_vl\"      \n",
       "[28] \"neutrophils_percent\"    \"lymphocytes_percent\"    \"mixed_cells_percent\"   \n",
       "[31] \"neutrophils_count\"      \"lymphocytes_count\"      \"mixed_cells_count\"     \n",
       "[34] \"RBC_dist_width_Percent\""
      ]
     },
     "metadata": {},
     "output_type": "display_data"
    }
   ],
   "source": [
    "colnames(case_data)"
   ]
  },
  {
   "cell_type": "markdown",
   "id": "c9947c09-da9a-479a-a10b-fc9831b43900",
   "metadata": {},
   "source": [
    "### subset"
   ]
  },
  {
   "cell_type": "code",
   "execution_count": 76,
   "id": "3917320f-07bb-4827-820c-4de6011d4ace",
   "metadata": {},
   "outputs": [
    {
     "data": {
      "text/html": [
       "<style>\n",
       ".list-inline {list-style: none; margin:0; padding: 0}\n",
       ".list-inline>li {display: inline-block}\n",
       ".list-inline>li:not(:last-child)::after {content: \"\\00b7\"; padding: 0 .5ex}\n",
       "</style>\n",
       "<ol class=list-inline><li>'Severe Malaria'</li><li>'Severe Malaria'</li><li>'Severe Malaria'</li><li>'Severe Malaria'</li><li>'Severe Malaria'</li><li>'Severe Malaria'</li><li>'Severe Malaria'</li><li>'Severe Malaria'</li><li>'Severe Malaria'</li><li>'Severe Malaria'</li><li>'Severe Malaria'</li><li>'Severe Malaria'</li><li>'Severe Malaria'</li><li>'Severe Malaria'</li><li>'Severe Malaria'</li><li>'Severe Malaria'</li><li>'Severe Malaria'</li><li>'Severe Malaria'</li><li>'Severe Malaria'</li><li>'Severe Malaria'</li><li>'Severe Malaria'</li><li>'Severe Malaria'</li><li>'Severe Malaria'</li><li>'Severe Malaria'</li><li>'Severe Malaria'</li><li>'Severe Malaria'</li><li>'Severe Malaria'</li><li>'Severe Malaria'</li><li>'Severe Malaria'</li><li>'Severe Malaria'</li><li>'Severe Malaria'</li><li>'Severe Malaria'</li><li>'Severe Malaria'</li><li>'Severe Malaria'</li><li>'Severe Malaria'</li><li>'Severe Malaria'</li><li>'Severe Malaria'</li><li>'Severe Malaria'</li><li>'Severe Malaria'</li><li>'Severe Malaria'</li><li>'Severe Malaria'</li><li>'Severe Malaria'</li><li>'Severe Malaria'</li><li>'Severe Malaria'</li><li>'Severe Malaria'</li><li>'Severe Malaria'</li><li>'Severe Malaria'</li><li>'Severe Malaria'</li><li>'Severe Malaria'</li><li>'Severe Malaria'</li><li>'Severe Malaria'</li><li>'Severe Malaria'</li><li>'Severe Malaria'</li><li>'Severe Malaria'</li><li>'Severe Malaria'</li><li>'Severe Malaria'</li><li>'Severe Malaria'</li><li>'Severe Malaria'</li><li>'Severe Malaria'</li><li>'Severe Malaria'</li><li>'Severe Malaria'</li><li>'Severe Malaria'</li><li>'Severe Malaria'</li><li>'Severe Malaria'</li><li>'Severe Malaria'</li><li>'Severe Malaria'</li><li>'Severe Malaria'</li><li>'Severe Malaria'</li><li>'Severe Malaria'</li><li>'Severe Malaria'</li><li>'Severe Malaria'</li><li>'Severe Malaria'</li><li>'Severe Malaria'</li><li>'Severe Malaria'</li><li>'Severe Malaria'</li><li>'Severe Malaria'</li><li>'Severe Malaria'</li><li>'Severe Malaria'</li><li>'Severe Malaria'</li><li>'Severe Malaria'</li><li>'Severe Malaria'</li><li>'Severe Malaria'</li><li>'Severe Malaria'</li><li>'Severe Malaria'</li><li>'Severe Malaria'</li><li>'Severe Malaria'</li><li>'Severe Malaria'</li><li>'Severe Malaria'</li><li>'Severe Malaria'</li><li>'Severe Malaria'</li><li>'Severe Malaria'</li><li>'Severe Malaria'</li><li>'Severe Malaria'</li><li>'Severe Malaria'</li><li>'Severe Malaria'</li><li>'Severe Malaria'</li><li>'Severe Malaria'</li><li>'Severe Malaria'</li><li>'Severe Malaria'</li><li>'Severe Malaria'</li><li>'Severe Malaria'</li><li>'Severe Malaria'</li><li>'Severe Malaria'</li><li>'Severe Malaria'</li><li>'Severe Malaria'</li><li>'Severe Malaria'</li><li>'Severe Malaria'</li><li>'Severe Malaria'</li><li>'Severe Malaria'</li><li>'Severe Malaria'</li><li>'Severe Malaria'</li><li>'Severe Malaria'</li><li>'Severe Malaria'</li><li>'Severe Malaria'</li><li>'Severe Malaria'</li><li>'Severe Malaria'</li><li>'Severe Malaria'</li><li>'Severe Malaria'</li><li>'Severe Malaria'</li><li>'Severe Malaria'</li><li>'Severe Malaria'</li><li>'Severe Malaria'</li><li>'Severe Malaria'</li><li>'Severe Malaria'</li><li>'Severe Malaria'</li><li>'Severe Malaria'</li><li>'Severe Malaria'</li><li>'Severe Malaria'</li><li>'Severe Malaria'</li><li>'Severe Malaria'</li><li>'Severe Malaria'</li><li>'Severe Malaria'</li><li>'Severe Malaria'</li><li>'Severe Malaria'</li><li>'Severe Malaria'</li><li>'Severe Malaria'</li><li>'Severe Malaria'</li><li>'Severe Malaria'</li><li>'Severe Malaria'</li><li>'Severe Malaria'</li><li>'Severe Malaria'</li><li>'Severe Malaria'</li><li>'Severe Malaria'</li><li>'Severe Malaria'</li><li>'Severe Malaria'</li><li>'Severe Malaria'</li><li>'Severe Malaria'</li><li>'Severe Malaria'</li><li>'Severe Malaria'</li><li>'Severe Malaria'</li><li>'Severe Malaria'</li><li>'Severe Malaria'</li><li>'Severe Malaria'</li><li>'Severe Malaria'</li><li>'Severe Malaria'</li><li>'Severe Malaria'</li><li>'Severe Malaria'</li><li>'Severe Malaria'</li><li>'Severe Malaria'</li><li>'Severe Malaria'</li><li>'Severe Malaria'</li><li>'Severe Malaria'</li><li>'Severe Malaria'</li><li>'Severe Malaria'</li><li>'Severe Malaria'</li><li>'Severe Malaria'</li><li>'Severe Malaria'</li><li>'Severe Malaria'</li><li>'Severe Malaria'</li><li>'Severe Malaria'</li><li>'Severe Malaria'</li><li>'Severe Malaria'</li><li>'Severe Malaria'</li><li>'Severe Malaria'</li><li>'Severe Malaria'</li><li>'Severe Malaria'</li><li>'Severe Malaria'</li><li>'Severe Malaria'</li><li>'Severe Malaria'</li><li>'Severe Malaria'</li><li>'Severe Malaria'</li><li>'Severe Malaria'</li><li>'Severe Malaria'</li><li>'Severe Malaria'</li><li>'Severe Malaria'</li><li>'Severe Malaria'</li><li>'Severe Malaria'</li><li>'Severe Malaria'</li><li>'Severe Malaria'</li><li>'Severe Malaria'</li><li>'Severe Malaria'</li><li>'Severe Malaria'</li><li>'Severe Malaria'</li><li>'Severe Malaria'</li><li>'Severe Malaria'</li><li>'Severe Malaria'</li><li>'Severe Malaria'</li><li>'Severe Malaria'</li><li>'Severe Malaria'</li><li>'Severe Malaria'</li><li>⋯</li><li>'Uncomplicated Malaria'</li><li>'Non-malaria Infection'</li><li>'Non-malaria Infection'</li><li>'Non-malaria Infection'</li><li>'Non-malaria Infection'</li><li>'Non-malaria Infection'</li><li>'Non-malaria Infection'</li><li>'Non-malaria Infection'</li><li>'Non-malaria Infection'</li><li>'Uncomplicated Malaria'</li><li>'Non-malaria Infection'</li><li>'Non-malaria Infection'</li><li>'Uncomplicated Malaria'</li><li>'Non-malaria Infection'</li><li>'Non-malaria Infection'</li><li>'Non-malaria Infection'</li><li>'Non-malaria Infection'</li><li>'Non-malaria Infection'</li><li>'Non-malaria Infection'</li><li>'Non-malaria Infection'</li><li>'Non-malaria Infection'</li><li>'Uncomplicated Malaria'</li><li>'Non-malaria Infection'</li><li>'Uncomplicated Malaria'</li><li>'Non-malaria Infection'</li><li>'Non-malaria Infection'</li><li>'Non-malaria Infection'</li><li>'Non-malaria Infection'</li><li>'Uncomplicated Malaria'</li><li>'Non-malaria Infection'</li><li>'Non-malaria Infection'</li><li>'Non-malaria Infection'</li><li>'Non-malaria Infection'</li><li>'Uncomplicated Malaria'</li><li>'Non-malaria Infection'</li><li>'Non-malaria Infection'</li><li>'Non-malaria Infection'</li><li>'Non-malaria Infection'</li><li>'Non-malaria Infection'</li><li>'Non-malaria Infection'</li><li>'Non-malaria Infection'</li><li>'Uncomplicated Malaria'</li><li>'Uncomplicated Malaria'</li><li>'Non-malaria Infection'</li><li>'Uncomplicated Malaria'</li><li>'Non-malaria Infection'</li><li>'Non-malaria Infection'</li><li>'Uncomplicated Malaria'</li><li>'Non-malaria Infection'</li><li>'Non-malaria Infection'</li><li>'Non-malaria Infection'</li><li>'Non-malaria Infection'</li><li>'Non-malaria Infection'</li><li>'Uncomplicated Malaria'</li><li>'Non-malaria Infection'</li><li>'Non-malaria Infection'</li><li>'Non-malaria Infection'</li><li>'Non-malaria Infection'</li><li>'Non-malaria Infection'</li><li>'Non-malaria Infection'</li><li>'Non-malaria Infection'</li><li>'Non-malaria Infection'</li><li>'Non-malaria Infection'</li><li>'Non-malaria Infection'</li><li>'Non-malaria Infection'</li><li>'Non-malaria Infection'</li><li>'Non-malaria Infection'</li><li>'Non-malaria Infection'</li><li>'Non-malaria Infection'</li><li>'Uncomplicated Malaria'</li><li>'Uncomplicated Malaria'</li><li>'Non-malaria Infection'</li><li>'Non-malaria Infection'</li><li>'Non-malaria Infection'</li><li>'Uncomplicated Malaria'</li><li>'Non-malaria Infection'</li><li>'Uncomplicated Malaria'</li><li>'Non-malaria Infection'</li><li>'Uncomplicated Malaria'</li><li>'Uncomplicated Malaria'</li><li>'Uncomplicated Malaria'</li><li>'Non-malaria Infection'</li><li>'Uncomplicated Malaria'</li><li>'Uncomplicated Malaria'</li><li>'Uncomplicated Malaria'</li><li>'Non-malaria Infection'</li><li>'Non-malaria Infection'</li><li>'Non-malaria Infection'</li><li>'Non-malaria Infection'</li><li>'Non-malaria Infection'</li><li>'Non-malaria Infection'</li><li>'Uncomplicated Malaria'</li><li>'Non-malaria Infection'</li><li>'Uncomplicated Malaria'</li><li>'Uncomplicated Malaria'</li><li>'Uncomplicated Malaria'</li><li>'Uncomplicated Malaria'</li><li>'Uncomplicated Malaria'</li><li>'Uncomplicated Malaria'</li><li>'Uncomplicated Malaria'</li><li>'Uncomplicated Malaria'</li><li>'Uncomplicated Malaria'</li><li>'Non-malaria Infection'</li><li>'Non-malaria Infection'</li><li>'Uncomplicated Malaria'</li><li>'Uncomplicated Malaria'</li><li>'Uncomplicated Malaria'</li><li>'Non-malaria Infection'</li><li>'Uncomplicated Malaria'</li><li>'Uncomplicated Malaria'</li><li>'Uncomplicated Malaria'</li><li>'Uncomplicated Malaria'</li><li>'Non-malaria Infection'</li><li>'Uncomplicated Malaria'</li><li>'Uncomplicated Malaria'</li><li>'Non-malaria Infection'</li><li>'Non-malaria Infection'</li><li>'Uncomplicated Malaria'</li><li>'Uncomplicated Malaria'</li><li>'Uncomplicated Malaria'</li><li>'Uncomplicated Malaria'</li><li>'Uncomplicated Malaria'</li><li>'Non-malaria Infection'</li><li>'Non-malaria Infection'</li><li>'Non-malaria Infection'</li><li>'Uncomplicated Malaria'</li><li>'Uncomplicated Malaria'</li><li>'Non-malaria Infection'</li><li>'Non-malaria Infection'</li><li>'Non-malaria Infection'</li><li>'Uncomplicated Malaria'</li><li>'Uncomplicated Malaria'</li><li>'Uncomplicated Malaria'</li><li>'Uncomplicated Malaria'</li><li>'Uncomplicated Malaria'</li><li>'Non-malaria Infection'</li><li>'Non-malaria Infection'</li><li>'Uncomplicated Malaria'</li><li>'Non-malaria Infection'</li><li>'Non-malaria Infection'</li><li>'Non-malaria Infection'</li><li>'Non-malaria Infection'</li><li>'Non-malaria Infection'</li><li>'Uncomplicated Malaria'</li><li>'Non-malaria Infection'</li><li>'Non-malaria Infection'</li><li>'Non-malaria Infection'</li><li>'Uncomplicated Malaria'</li><li>'Uncomplicated Malaria'</li><li>'Uncomplicated Malaria'</li><li>'Non-malaria Infection'</li><li>'Non-malaria Infection'</li><li>'Non-malaria Infection'</li><li>'Uncomplicated Malaria'</li><li>'Uncomplicated Malaria'</li><li>'Non-malaria Infection'</li><li>'Uncomplicated Malaria'</li><li>'Non-malaria Infection'</li><li>'Uncomplicated Malaria'</li><li>'Uncomplicated Malaria'</li><li>'Uncomplicated Malaria'</li><li>'Uncomplicated Malaria'</li><li>'Uncomplicated Malaria'</li><li>'Uncomplicated Malaria'</li><li>'Non-malaria Infection'</li><li>'Uncomplicated Malaria'</li><li>'Non-malaria Infection'</li><li>'Non-malaria Infection'</li><li>'Uncomplicated Malaria'</li><li>'Uncomplicated Malaria'</li><li>'Non-malaria Infection'</li><li>'Uncomplicated Malaria'</li><li>'Uncomplicated Malaria'</li><li>'Uncomplicated Malaria'</li><li>'Non-malaria Infection'</li><li>'Non-malaria Infection'</li><li>'Uncomplicated Malaria'</li><li>'Uncomplicated Malaria'</li><li>'Uncomplicated Malaria'</li><li>'Uncomplicated Malaria'</li><li>'Uncomplicated Malaria'</li><li>'Non-malaria Infection'</li><li>'Non-malaria Infection'</li><li>'Non-malaria Infection'</li><li>'Non-malaria Infection'</li><li>'Uncomplicated Malaria'</li><li>'Uncomplicated Malaria'</li><li>'Non-malaria Infection'</li><li>'Uncomplicated Malaria'</li><li>'Non-malaria Infection'</li><li>'Non-malaria Infection'</li><li>'Non-malaria Infection'</li><li>'Uncomplicated Malaria'</li><li>'Uncomplicated Malaria'</li><li>'Non-malaria Infection'</li><li>'Uncomplicated Malaria'</li><li>'Non-malaria Infection'</li><li>'Non-malaria Infection'</li><li>'Non-malaria Infection'</li><li>'Non-malaria Infection'</li></ol>\n"
      ],
      "text/latex": [
       "\\begin{enumerate*}\n",
       "\\item 'Severe Malaria'\n",
       "\\item 'Severe Malaria'\n",
       "\\item 'Severe Malaria'\n",
       "\\item 'Severe Malaria'\n",
       "\\item 'Severe Malaria'\n",
       "\\item 'Severe Malaria'\n",
       "\\item 'Severe Malaria'\n",
       "\\item 'Severe Malaria'\n",
       "\\item 'Severe Malaria'\n",
       "\\item 'Severe Malaria'\n",
       "\\item 'Severe Malaria'\n",
       "\\item 'Severe Malaria'\n",
       "\\item 'Severe Malaria'\n",
       "\\item 'Severe Malaria'\n",
       "\\item 'Severe Malaria'\n",
       "\\item 'Severe Malaria'\n",
       "\\item 'Severe Malaria'\n",
       "\\item 'Severe Malaria'\n",
       "\\item 'Severe Malaria'\n",
       "\\item 'Severe Malaria'\n",
       "\\item 'Severe Malaria'\n",
       "\\item 'Severe Malaria'\n",
       "\\item 'Severe Malaria'\n",
       "\\item 'Severe Malaria'\n",
       "\\item 'Severe Malaria'\n",
       "\\item 'Severe Malaria'\n",
       "\\item 'Severe Malaria'\n",
       "\\item 'Severe Malaria'\n",
       "\\item 'Severe Malaria'\n",
       "\\item 'Severe Malaria'\n",
       "\\item 'Severe Malaria'\n",
       "\\item 'Severe Malaria'\n",
       "\\item 'Severe Malaria'\n",
       "\\item 'Severe Malaria'\n",
       "\\item 'Severe Malaria'\n",
       "\\item 'Severe Malaria'\n",
       "\\item 'Severe Malaria'\n",
       "\\item 'Severe Malaria'\n",
       "\\item 'Severe Malaria'\n",
       "\\item 'Severe Malaria'\n",
       "\\item 'Severe Malaria'\n",
       "\\item 'Severe Malaria'\n",
       "\\item 'Severe Malaria'\n",
       "\\item 'Severe Malaria'\n",
       "\\item 'Severe Malaria'\n",
       "\\item 'Severe Malaria'\n",
       "\\item 'Severe Malaria'\n",
       "\\item 'Severe Malaria'\n",
       "\\item 'Severe Malaria'\n",
       "\\item 'Severe Malaria'\n",
       "\\item 'Severe Malaria'\n",
       "\\item 'Severe Malaria'\n",
       "\\item 'Severe Malaria'\n",
       "\\item 'Severe Malaria'\n",
       "\\item 'Severe Malaria'\n",
       "\\item 'Severe Malaria'\n",
       "\\item 'Severe Malaria'\n",
       "\\item 'Severe Malaria'\n",
       "\\item 'Severe Malaria'\n",
       "\\item 'Severe Malaria'\n",
       "\\item 'Severe Malaria'\n",
       "\\item 'Severe Malaria'\n",
       "\\item 'Severe Malaria'\n",
       "\\item 'Severe Malaria'\n",
       "\\item 'Severe Malaria'\n",
       "\\item 'Severe Malaria'\n",
       "\\item 'Severe Malaria'\n",
       "\\item 'Severe Malaria'\n",
       "\\item 'Severe Malaria'\n",
       "\\item 'Severe Malaria'\n",
       "\\item 'Severe Malaria'\n",
       "\\item 'Severe Malaria'\n",
       "\\item 'Severe Malaria'\n",
       "\\item 'Severe Malaria'\n",
       "\\item 'Severe Malaria'\n",
       "\\item 'Severe Malaria'\n",
       "\\item 'Severe Malaria'\n",
       "\\item 'Severe Malaria'\n",
       "\\item 'Severe Malaria'\n",
       "\\item 'Severe Malaria'\n",
       "\\item 'Severe Malaria'\n",
       "\\item 'Severe Malaria'\n",
       "\\item 'Severe Malaria'\n",
       "\\item 'Severe Malaria'\n",
       "\\item 'Severe Malaria'\n",
       "\\item 'Severe Malaria'\n",
       "\\item 'Severe Malaria'\n",
       "\\item 'Severe Malaria'\n",
       "\\item 'Severe Malaria'\n",
       "\\item 'Severe Malaria'\n",
       "\\item 'Severe Malaria'\n",
       "\\item 'Severe Malaria'\n",
       "\\item 'Severe Malaria'\n",
       "\\item 'Severe Malaria'\n",
       "\\item 'Severe Malaria'\n",
       "\\item 'Severe Malaria'\n",
       "\\item 'Severe Malaria'\n",
       "\\item 'Severe Malaria'\n",
       "\\item 'Severe Malaria'\n",
       "\\item 'Severe Malaria'\n",
       "\\item 'Severe Malaria'\n",
       "\\item 'Severe Malaria'\n",
       "\\item 'Severe Malaria'\n",
       "\\item 'Severe Malaria'\n",
       "\\item 'Severe Malaria'\n",
       "\\item 'Severe Malaria'\n",
       "\\item 'Severe Malaria'\n",
       "\\item 'Severe Malaria'\n",
       "\\item 'Severe Malaria'\n",
       "\\item 'Severe Malaria'\n",
       "\\item 'Severe Malaria'\n",
       "\\item 'Severe Malaria'\n",
       "\\item 'Severe Malaria'\n",
       "\\item 'Severe Malaria'\n",
       "\\item 'Severe Malaria'\n",
       "\\item 'Severe Malaria'\n",
       "\\item 'Severe Malaria'\n",
       "\\item 'Severe Malaria'\n",
       "\\item 'Severe Malaria'\n",
       "\\item 'Severe Malaria'\n",
       "\\item 'Severe Malaria'\n",
       "\\item 'Severe Malaria'\n",
       "\\item 'Severe Malaria'\n",
       "\\item 'Severe Malaria'\n",
       "\\item 'Severe Malaria'\n",
       "\\item 'Severe Malaria'\n",
       "\\item 'Severe Malaria'\n",
       "\\item 'Severe Malaria'\n",
       "\\item 'Severe Malaria'\n",
       "\\item 'Severe Malaria'\n",
       "\\item 'Severe Malaria'\n",
       "\\item 'Severe Malaria'\n",
       "\\item 'Severe Malaria'\n",
       "\\item 'Severe Malaria'\n",
       "\\item 'Severe Malaria'\n",
       "\\item 'Severe Malaria'\n",
       "\\item 'Severe Malaria'\n",
       "\\item 'Severe Malaria'\n",
       "\\item 'Severe Malaria'\n",
       "\\item 'Severe Malaria'\n",
       "\\item 'Severe Malaria'\n",
       "\\item 'Severe Malaria'\n",
       "\\item 'Severe Malaria'\n",
       "\\item 'Severe Malaria'\n",
       "\\item 'Severe Malaria'\n",
       "\\item 'Severe Malaria'\n",
       "\\item 'Severe Malaria'\n",
       "\\item 'Severe Malaria'\n",
       "\\item 'Severe Malaria'\n",
       "\\item 'Severe Malaria'\n",
       "\\item 'Severe Malaria'\n",
       "\\item 'Severe Malaria'\n",
       "\\item 'Severe Malaria'\n",
       "\\item 'Severe Malaria'\n",
       "\\item 'Severe Malaria'\n",
       "\\item 'Severe Malaria'\n",
       "\\item 'Severe Malaria'\n",
       "\\item 'Severe Malaria'\n",
       "\\item 'Severe Malaria'\n",
       "\\item 'Severe Malaria'\n",
       "\\item 'Severe Malaria'\n",
       "\\item 'Severe Malaria'\n",
       "\\item 'Severe Malaria'\n",
       "\\item 'Severe Malaria'\n",
       "\\item 'Severe Malaria'\n",
       "\\item 'Severe Malaria'\n",
       "\\item 'Severe Malaria'\n",
       "\\item 'Severe Malaria'\n",
       "\\item 'Severe Malaria'\n",
       "\\item 'Severe Malaria'\n",
       "\\item 'Severe Malaria'\n",
       "\\item 'Severe Malaria'\n",
       "\\item 'Severe Malaria'\n",
       "\\item 'Severe Malaria'\n",
       "\\item 'Severe Malaria'\n",
       "\\item 'Severe Malaria'\n",
       "\\item 'Severe Malaria'\n",
       "\\item 'Severe Malaria'\n",
       "\\item 'Severe Malaria'\n",
       "\\item 'Severe Malaria'\n",
       "\\item 'Severe Malaria'\n",
       "\\item 'Severe Malaria'\n",
       "\\item 'Severe Malaria'\n",
       "\\item 'Severe Malaria'\n",
       "\\item 'Severe Malaria'\n",
       "\\item 'Severe Malaria'\n",
       "\\item 'Severe Malaria'\n",
       "\\item 'Severe Malaria'\n",
       "\\item 'Severe Malaria'\n",
       "\\item 'Severe Malaria'\n",
       "\\item 'Severe Malaria'\n",
       "\\item 'Severe Malaria'\n",
       "\\item 'Severe Malaria'\n",
       "\\item 'Severe Malaria'\n",
       "\\item 'Severe Malaria'\n",
       "\\item 'Severe Malaria'\n",
       "\\item 'Severe Malaria'\n",
       "\\item 'Severe Malaria'\n",
       "\\item 'Severe Malaria'\n",
       "\\item 'Severe Malaria'\n",
       "\\item ⋯\n",
       "\\item 'Uncomplicated Malaria'\n",
       "\\item 'Non-malaria Infection'\n",
       "\\item 'Non-malaria Infection'\n",
       "\\item 'Non-malaria Infection'\n",
       "\\item 'Non-malaria Infection'\n",
       "\\item 'Non-malaria Infection'\n",
       "\\item 'Non-malaria Infection'\n",
       "\\item 'Non-malaria Infection'\n",
       "\\item 'Non-malaria Infection'\n",
       "\\item 'Uncomplicated Malaria'\n",
       "\\item 'Non-malaria Infection'\n",
       "\\item 'Non-malaria Infection'\n",
       "\\item 'Uncomplicated Malaria'\n",
       "\\item 'Non-malaria Infection'\n",
       "\\item 'Non-malaria Infection'\n",
       "\\item 'Non-malaria Infection'\n",
       "\\item 'Non-malaria Infection'\n",
       "\\item 'Non-malaria Infection'\n",
       "\\item 'Non-malaria Infection'\n",
       "\\item 'Non-malaria Infection'\n",
       "\\item 'Non-malaria Infection'\n",
       "\\item 'Uncomplicated Malaria'\n",
       "\\item 'Non-malaria Infection'\n",
       "\\item 'Uncomplicated Malaria'\n",
       "\\item 'Non-malaria Infection'\n",
       "\\item 'Non-malaria Infection'\n",
       "\\item 'Non-malaria Infection'\n",
       "\\item 'Non-malaria Infection'\n",
       "\\item 'Uncomplicated Malaria'\n",
       "\\item 'Non-malaria Infection'\n",
       "\\item 'Non-malaria Infection'\n",
       "\\item 'Non-malaria Infection'\n",
       "\\item 'Non-malaria Infection'\n",
       "\\item 'Uncomplicated Malaria'\n",
       "\\item 'Non-malaria Infection'\n",
       "\\item 'Non-malaria Infection'\n",
       "\\item 'Non-malaria Infection'\n",
       "\\item 'Non-malaria Infection'\n",
       "\\item 'Non-malaria Infection'\n",
       "\\item 'Non-malaria Infection'\n",
       "\\item 'Non-malaria Infection'\n",
       "\\item 'Uncomplicated Malaria'\n",
       "\\item 'Uncomplicated Malaria'\n",
       "\\item 'Non-malaria Infection'\n",
       "\\item 'Uncomplicated Malaria'\n",
       "\\item 'Non-malaria Infection'\n",
       "\\item 'Non-malaria Infection'\n",
       "\\item 'Uncomplicated Malaria'\n",
       "\\item 'Non-malaria Infection'\n",
       "\\item 'Non-malaria Infection'\n",
       "\\item 'Non-malaria Infection'\n",
       "\\item 'Non-malaria Infection'\n",
       "\\item 'Non-malaria Infection'\n",
       "\\item 'Uncomplicated Malaria'\n",
       "\\item 'Non-malaria Infection'\n",
       "\\item 'Non-malaria Infection'\n",
       "\\item 'Non-malaria Infection'\n",
       "\\item 'Non-malaria Infection'\n",
       "\\item 'Non-malaria Infection'\n",
       "\\item 'Non-malaria Infection'\n",
       "\\item 'Non-malaria Infection'\n",
       "\\item 'Non-malaria Infection'\n",
       "\\item 'Non-malaria Infection'\n",
       "\\item 'Non-malaria Infection'\n",
       "\\item 'Non-malaria Infection'\n",
       "\\item 'Non-malaria Infection'\n",
       "\\item 'Non-malaria Infection'\n",
       "\\item 'Non-malaria Infection'\n",
       "\\item 'Non-malaria Infection'\n",
       "\\item 'Uncomplicated Malaria'\n",
       "\\item 'Uncomplicated Malaria'\n",
       "\\item 'Non-malaria Infection'\n",
       "\\item 'Non-malaria Infection'\n",
       "\\item 'Non-malaria Infection'\n",
       "\\item 'Uncomplicated Malaria'\n",
       "\\item 'Non-malaria Infection'\n",
       "\\item 'Uncomplicated Malaria'\n",
       "\\item 'Non-malaria Infection'\n",
       "\\item 'Uncomplicated Malaria'\n",
       "\\item 'Uncomplicated Malaria'\n",
       "\\item 'Uncomplicated Malaria'\n",
       "\\item 'Non-malaria Infection'\n",
       "\\item 'Uncomplicated Malaria'\n",
       "\\item 'Uncomplicated Malaria'\n",
       "\\item 'Uncomplicated Malaria'\n",
       "\\item 'Non-malaria Infection'\n",
       "\\item 'Non-malaria Infection'\n",
       "\\item 'Non-malaria Infection'\n",
       "\\item 'Non-malaria Infection'\n",
       "\\item 'Non-malaria Infection'\n",
       "\\item 'Non-malaria Infection'\n",
       "\\item 'Uncomplicated Malaria'\n",
       "\\item 'Non-malaria Infection'\n",
       "\\item 'Uncomplicated Malaria'\n",
       "\\item 'Uncomplicated Malaria'\n",
       "\\item 'Uncomplicated Malaria'\n",
       "\\item 'Uncomplicated Malaria'\n",
       "\\item 'Uncomplicated Malaria'\n",
       "\\item 'Uncomplicated Malaria'\n",
       "\\item 'Uncomplicated Malaria'\n",
       "\\item 'Uncomplicated Malaria'\n",
       "\\item 'Uncomplicated Malaria'\n",
       "\\item 'Non-malaria Infection'\n",
       "\\item 'Non-malaria Infection'\n",
       "\\item 'Uncomplicated Malaria'\n",
       "\\item 'Uncomplicated Malaria'\n",
       "\\item 'Uncomplicated Malaria'\n",
       "\\item 'Non-malaria Infection'\n",
       "\\item 'Uncomplicated Malaria'\n",
       "\\item 'Uncomplicated Malaria'\n",
       "\\item 'Uncomplicated Malaria'\n",
       "\\item 'Uncomplicated Malaria'\n",
       "\\item 'Non-malaria Infection'\n",
       "\\item 'Uncomplicated Malaria'\n",
       "\\item 'Uncomplicated Malaria'\n",
       "\\item 'Non-malaria Infection'\n",
       "\\item 'Non-malaria Infection'\n",
       "\\item 'Uncomplicated Malaria'\n",
       "\\item 'Uncomplicated Malaria'\n",
       "\\item 'Uncomplicated Malaria'\n",
       "\\item 'Uncomplicated Malaria'\n",
       "\\item 'Uncomplicated Malaria'\n",
       "\\item 'Non-malaria Infection'\n",
       "\\item 'Non-malaria Infection'\n",
       "\\item 'Non-malaria Infection'\n",
       "\\item 'Uncomplicated Malaria'\n",
       "\\item 'Uncomplicated Malaria'\n",
       "\\item 'Non-malaria Infection'\n",
       "\\item 'Non-malaria Infection'\n",
       "\\item 'Non-malaria Infection'\n",
       "\\item 'Uncomplicated Malaria'\n",
       "\\item 'Uncomplicated Malaria'\n",
       "\\item 'Uncomplicated Malaria'\n",
       "\\item 'Uncomplicated Malaria'\n",
       "\\item 'Uncomplicated Malaria'\n",
       "\\item 'Non-malaria Infection'\n",
       "\\item 'Non-malaria Infection'\n",
       "\\item 'Uncomplicated Malaria'\n",
       "\\item 'Non-malaria Infection'\n",
       "\\item 'Non-malaria Infection'\n",
       "\\item 'Non-malaria Infection'\n",
       "\\item 'Non-malaria Infection'\n",
       "\\item 'Non-malaria Infection'\n",
       "\\item 'Uncomplicated Malaria'\n",
       "\\item 'Non-malaria Infection'\n",
       "\\item 'Non-malaria Infection'\n",
       "\\item 'Non-malaria Infection'\n",
       "\\item 'Uncomplicated Malaria'\n",
       "\\item 'Uncomplicated Malaria'\n",
       "\\item 'Uncomplicated Malaria'\n",
       "\\item 'Non-malaria Infection'\n",
       "\\item 'Non-malaria Infection'\n",
       "\\item 'Non-malaria Infection'\n",
       "\\item 'Uncomplicated Malaria'\n",
       "\\item 'Uncomplicated Malaria'\n",
       "\\item 'Non-malaria Infection'\n",
       "\\item 'Uncomplicated Malaria'\n",
       "\\item 'Non-malaria Infection'\n",
       "\\item 'Uncomplicated Malaria'\n",
       "\\item 'Uncomplicated Malaria'\n",
       "\\item 'Uncomplicated Malaria'\n",
       "\\item 'Uncomplicated Malaria'\n",
       "\\item 'Uncomplicated Malaria'\n",
       "\\item 'Uncomplicated Malaria'\n",
       "\\item 'Non-malaria Infection'\n",
       "\\item 'Uncomplicated Malaria'\n",
       "\\item 'Non-malaria Infection'\n",
       "\\item 'Non-malaria Infection'\n",
       "\\item 'Uncomplicated Malaria'\n",
       "\\item 'Uncomplicated Malaria'\n",
       "\\item 'Non-malaria Infection'\n",
       "\\item 'Uncomplicated Malaria'\n",
       "\\item 'Uncomplicated Malaria'\n",
       "\\item 'Uncomplicated Malaria'\n",
       "\\item 'Non-malaria Infection'\n",
       "\\item 'Non-malaria Infection'\n",
       "\\item 'Uncomplicated Malaria'\n",
       "\\item 'Uncomplicated Malaria'\n",
       "\\item 'Uncomplicated Malaria'\n",
       "\\item 'Uncomplicated Malaria'\n",
       "\\item 'Uncomplicated Malaria'\n",
       "\\item 'Non-malaria Infection'\n",
       "\\item 'Non-malaria Infection'\n",
       "\\item 'Non-malaria Infection'\n",
       "\\item 'Non-malaria Infection'\n",
       "\\item 'Uncomplicated Malaria'\n",
       "\\item 'Uncomplicated Malaria'\n",
       "\\item 'Non-malaria Infection'\n",
       "\\item 'Uncomplicated Malaria'\n",
       "\\item 'Non-malaria Infection'\n",
       "\\item 'Non-malaria Infection'\n",
       "\\item 'Non-malaria Infection'\n",
       "\\item 'Uncomplicated Malaria'\n",
       "\\item 'Uncomplicated Malaria'\n",
       "\\item 'Non-malaria Infection'\n",
       "\\item 'Uncomplicated Malaria'\n",
       "\\item 'Non-malaria Infection'\n",
       "\\item 'Non-malaria Infection'\n",
       "\\item 'Non-malaria Infection'\n",
       "\\item 'Non-malaria Infection'\n",
       "\\end{enumerate*}\n"
      ],
      "text/markdown": [
       "1. 'Severe Malaria'\n",
       "2. 'Severe Malaria'\n",
       "3. 'Severe Malaria'\n",
       "4. 'Severe Malaria'\n",
       "5. 'Severe Malaria'\n",
       "6. 'Severe Malaria'\n",
       "7. 'Severe Malaria'\n",
       "8. 'Severe Malaria'\n",
       "9. 'Severe Malaria'\n",
       "10. 'Severe Malaria'\n",
       "11. 'Severe Malaria'\n",
       "12. 'Severe Malaria'\n",
       "13. 'Severe Malaria'\n",
       "14. 'Severe Malaria'\n",
       "15. 'Severe Malaria'\n",
       "16. 'Severe Malaria'\n",
       "17. 'Severe Malaria'\n",
       "18. 'Severe Malaria'\n",
       "19. 'Severe Malaria'\n",
       "20. 'Severe Malaria'\n",
       "21. 'Severe Malaria'\n",
       "22. 'Severe Malaria'\n",
       "23. 'Severe Malaria'\n",
       "24. 'Severe Malaria'\n",
       "25. 'Severe Malaria'\n",
       "26. 'Severe Malaria'\n",
       "27. 'Severe Malaria'\n",
       "28. 'Severe Malaria'\n",
       "29. 'Severe Malaria'\n",
       "30. 'Severe Malaria'\n",
       "31. 'Severe Malaria'\n",
       "32. 'Severe Malaria'\n",
       "33. 'Severe Malaria'\n",
       "34. 'Severe Malaria'\n",
       "35. 'Severe Malaria'\n",
       "36. 'Severe Malaria'\n",
       "37. 'Severe Malaria'\n",
       "38. 'Severe Malaria'\n",
       "39. 'Severe Malaria'\n",
       "40. 'Severe Malaria'\n",
       "41. 'Severe Malaria'\n",
       "42. 'Severe Malaria'\n",
       "43. 'Severe Malaria'\n",
       "44. 'Severe Malaria'\n",
       "45. 'Severe Malaria'\n",
       "46. 'Severe Malaria'\n",
       "47. 'Severe Malaria'\n",
       "48. 'Severe Malaria'\n",
       "49. 'Severe Malaria'\n",
       "50. 'Severe Malaria'\n",
       "51. 'Severe Malaria'\n",
       "52. 'Severe Malaria'\n",
       "53. 'Severe Malaria'\n",
       "54. 'Severe Malaria'\n",
       "55. 'Severe Malaria'\n",
       "56. 'Severe Malaria'\n",
       "57. 'Severe Malaria'\n",
       "58. 'Severe Malaria'\n",
       "59. 'Severe Malaria'\n",
       "60. 'Severe Malaria'\n",
       "61. 'Severe Malaria'\n",
       "62. 'Severe Malaria'\n",
       "63. 'Severe Malaria'\n",
       "64. 'Severe Malaria'\n",
       "65. 'Severe Malaria'\n",
       "66. 'Severe Malaria'\n",
       "67. 'Severe Malaria'\n",
       "68. 'Severe Malaria'\n",
       "69. 'Severe Malaria'\n",
       "70. 'Severe Malaria'\n",
       "71. 'Severe Malaria'\n",
       "72. 'Severe Malaria'\n",
       "73. 'Severe Malaria'\n",
       "74. 'Severe Malaria'\n",
       "75. 'Severe Malaria'\n",
       "76. 'Severe Malaria'\n",
       "77. 'Severe Malaria'\n",
       "78. 'Severe Malaria'\n",
       "79. 'Severe Malaria'\n",
       "80. 'Severe Malaria'\n",
       "81. 'Severe Malaria'\n",
       "82. 'Severe Malaria'\n",
       "83. 'Severe Malaria'\n",
       "84. 'Severe Malaria'\n",
       "85. 'Severe Malaria'\n",
       "86. 'Severe Malaria'\n",
       "87. 'Severe Malaria'\n",
       "88. 'Severe Malaria'\n",
       "89. 'Severe Malaria'\n",
       "90. 'Severe Malaria'\n",
       "91. 'Severe Malaria'\n",
       "92. 'Severe Malaria'\n",
       "93. 'Severe Malaria'\n",
       "94. 'Severe Malaria'\n",
       "95. 'Severe Malaria'\n",
       "96. 'Severe Malaria'\n",
       "97. 'Severe Malaria'\n",
       "98. 'Severe Malaria'\n",
       "99. 'Severe Malaria'\n",
       "100. 'Severe Malaria'\n",
       "101. 'Severe Malaria'\n",
       "102. 'Severe Malaria'\n",
       "103. 'Severe Malaria'\n",
       "104. 'Severe Malaria'\n",
       "105. 'Severe Malaria'\n",
       "106. 'Severe Malaria'\n",
       "107. 'Severe Malaria'\n",
       "108. 'Severe Malaria'\n",
       "109. 'Severe Malaria'\n",
       "110. 'Severe Malaria'\n",
       "111. 'Severe Malaria'\n",
       "112. 'Severe Malaria'\n",
       "113. 'Severe Malaria'\n",
       "114. 'Severe Malaria'\n",
       "115. 'Severe Malaria'\n",
       "116. 'Severe Malaria'\n",
       "117. 'Severe Malaria'\n",
       "118. 'Severe Malaria'\n",
       "119. 'Severe Malaria'\n",
       "120. 'Severe Malaria'\n",
       "121. 'Severe Malaria'\n",
       "122. 'Severe Malaria'\n",
       "123. 'Severe Malaria'\n",
       "124. 'Severe Malaria'\n",
       "125. 'Severe Malaria'\n",
       "126. 'Severe Malaria'\n",
       "127. 'Severe Malaria'\n",
       "128. 'Severe Malaria'\n",
       "129. 'Severe Malaria'\n",
       "130. 'Severe Malaria'\n",
       "131. 'Severe Malaria'\n",
       "132. 'Severe Malaria'\n",
       "133. 'Severe Malaria'\n",
       "134. 'Severe Malaria'\n",
       "135. 'Severe Malaria'\n",
       "136. 'Severe Malaria'\n",
       "137. 'Severe Malaria'\n",
       "138. 'Severe Malaria'\n",
       "139. 'Severe Malaria'\n",
       "140. 'Severe Malaria'\n",
       "141. 'Severe Malaria'\n",
       "142. 'Severe Malaria'\n",
       "143. 'Severe Malaria'\n",
       "144. 'Severe Malaria'\n",
       "145. 'Severe Malaria'\n",
       "146. 'Severe Malaria'\n",
       "147. 'Severe Malaria'\n",
       "148. 'Severe Malaria'\n",
       "149. 'Severe Malaria'\n",
       "150. 'Severe Malaria'\n",
       "151. 'Severe Malaria'\n",
       "152. 'Severe Malaria'\n",
       "153. 'Severe Malaria'\n",
       "154. 'Severe Malaria'\n",
       "155. 'Severe Malaria'\n",
       "156. 'Severe Malaria'\n",
       "157. 'Severe Malaria'\n",
       "158. 'Severe Malaria'\n",
       "159. 'Severe Malaria'\n",
       "160. 'Severe Malaria'\n",
       "161. 'Severe Malaria'\n",
       "162. 'Severe Malaria'\n",
       "163. 'Severe Malaria'\n",
       "164. 'Severe Malaria'\n",
       "165. 'Severe Malaria'\n",
       "166. 'Severe Malaria'\n",
       "167. 'Severe Malaria'\n",
       "168. 'Severe Malaria'\n",
       "169. 'Severe Malaria'\n",
       "170. 'Severe Malaria'\n",
       "171. 'Severe Malaria'\n",
       "172. 'Severe Malaria'\n",
       "173. 'Severe Malaria'\n",
       "174. 'Severe Malaria'\n",
       "175. 'Severe Malaria'\n",
       "176. 'Severe Malaria'\n",
       "177. 'Severe Malaria'\n",
       "178. 'Severe Malaria'\n",
       "179. 'Severe Malaria'\n",
       "180. 'Severe Malaria'\n",
       "181. 'Severe Malaria'\n",
       "182. 'Severe Malaria'\n",
       "183. 'Severe Malaria'\n",
       "184. 'Severe Malaria'\n",
       "185. 'Severe Malaria'\n",
       "186. 'Severe Malaria'\n",
       "187. 'Severe Malaria'\n",
       "188. 'Severe Malaria'\n",
       "189. 'Severe Malaria'\n",
       "190. 'Severe Malaria'\n",
       "191. 'Severe Malaria'\n",
       "192. 'Severe Malaria'\n",
       "193. 'Severe Malaria'\n",
       "194. 'Severe Malaria'\n",
       "195. 'Severe Malaria'\n",
       "196. 'Severe Malaria'\n",
       "197. 'Severe Malaria'\n",
       "198. 'Severe Malaria'\n",
       "199. 'Severe Malaria'\n",
       "200. 'Severe Malaria'\n",
       "201. ⋯\n",
       "202. 'Uncomplicated Malaria'\n",
       "203. 'Non-malaria Infection'\n",
       "204. 'Non-malaria Infection'\n",
       "205. 'Non-malaria Infection'\n",
       "206. 'Non-malaria Infection'\n",
       "207. 'Non-malaria Infection'\n",
       "208. 'Non-malaria Infection'\n",
       "209. 'Non-malaria Infection'\n",
       "210. 'Non-malaria Infection'\n",
       "211. 'Uncomplicated Malaria'\n",
       "212. 'Non-malaria Infection'\n",
       "213. 'Non-malaria Infection'\n",
       "214. 'Uncomplicated Malaria'\n",
       "215. 'Non-malaria Infection'\n",
       "216. 'Non-malaria Infection'\n",
       "217. 'Non-malaria Infection'\n",
       "218. 'Non-malaria Infection'\n",
       "219. 'Non-malaria Infection'\n",
       "220. 'Non-malaria Infection'\n",
       "221. 'Non-malaria Infection'\n",
       "222. 'Non-malaria Infection'\n",
       "223. 'Uncomplicated Malaria'\n",
       "224. 'Non-malaria Infection'\n",
       "225. 'Uncomplicated Malaria'\n",
       "226. 'Non-malaria Infection'\n",
       "227. 'Non-malaria Infection'\n",
       "228. 'Non-malaria Infection'\n",
       "229. 'Non-malaria Infection'\n",
       "230. 'Uncomplicated Malaria'\n",
       "231. 'Non-malaria Infection'\n",
       "232. 'Non-malaria Infection'\n",
       "233. 'Non-malaria Infection'\n",
       "234. 'Non-malaria Infection'\n",
       "235. 'Uncomplicated Malaria'\n",
       "236. 'Non-malaria Infection'\n",
       "237. 'Non-malaria Infection'\n",
       "238. 'Non-malaria Infection'\n",
       "239. 'Non-malaria Infection'\n",
       "240. 'Non-malaria Infection'\n",
       "241. 'Non-malaria Infection'\n",
       "242. 'Non-malaria Infection'\n",
       "243. 'Uncomplicated Malaria'\n",
       "244. 'Uncomplicated Malaria'\n",
       "245. 'Non-malaria Infection'\n",
       "246. 'Uncomplicated Malaria'\n",
       "247. 'Non-malaria Infection'\n",
       "248. 'Non-malaria Infection'\n",
       "249. 'Uncomplicated Malaria'\n",
       "250. 'Non-malaria Infection'\n",
       "251. 'Non-malaria Infection'\n",
       "252. 'Non-malaria Infection'\n",
       "253. 'Non-malaria Infection'\n",
       "254. 'Non-malaria Infection'\n",
       "255. 'Uncomplicated Malaria'\n",
       "256. 'Non-malaria Infection'\n",
       "257. 'Non-malaria Infection'\n",
       "258. 'Non-malaria Infection'\n",
       "259. 'Non-malaria Infection'\n",
       "260. 'Non-malaria Infection'\n",
       "261. 'Non-malaria Infection'\n",
       "262. 'Non-malaria Infection'\n",
       "263. 'Non-malaria Infection'\n",
       "264. 'Non-malaria Infection'\n",
       "265. 'Non-malaria Infection'\n",
       "266. 'Non-malaria Infection'\n",
       "267. 'Non-malaria Infection'\n",
       "268. 'Non-malaria Infection'\n",
       "269. 'Non-malaria Infection'\n",
       "270. 'Non-malaria Infection'\n",
       "271. 'Uncomplicated Malaria'\n",
       "272. 'Uncomplicated Malaria'\n",
       "273. 'Non-malaria Infection'\n",
       "274. 'Non-malaria Infection'\n",
       "275. 'Non-malaria Infection'\n",
       "276. 'Uncomplicated Malaria'\n",
       "277. 'Non-malaria Infection'\n",
       "278. 'Uncomplicated Malaria'\n",
       "279. 'Non-malaria Infection'\n",
       "280. 'Uncomplicated Malaria'\n",
       "281. 'Uncomplicated Malaria'\n",
       "282. 'Uncomplicated Malaria'\n",
       "283. 'Non-malaria Infection'\n",
       "284. 'Uncomplicated Malaria'\n",
       "285. 'Uncomplicated Malaria'\n",
       "286. 'Uncomplicated Malaria'\n",
       "287. 'Non-malaria Infection'\n",
       "288. 'Non-malaria Infection'\n",
       "289. 'Non-malaria Infection'\n",
       "290. 'Non-malaria Infection'\n",
       "291. 'Non-malaria Infection'\n",
       "292. 'Non-malaria Infection'\n",
       "293. 'Uncomplicated Malaria'\n",
       "294. 'Non-malaria Infection'\n",
       "295. 'Uncomplicated Malaria'\n",
       "296. 'Uncomplicated Malaria'\n",
       "297. 'Uncomplicated Malaria'\n",
       "298. 'Uncomplicated Malaria'\n",
       "299. 'Uncomplicated Malaria'\n",
       "300. 'Uncomplicated Malaria'\n",
       "301. 'Uncomplicated Malaria'\n",
       "302. 'Uncomplicated Malaria'\n",
       "303. 'Uncomplicated Malaria'\n",
       "304. 'Non-malaria Infection'\n",
       "305. 'Non-malaria Infection'\n",
       "306. 'Uncomplicated Malaria'\n",
       "307. 'Uncomplicated Malaria'\n",
       "308. 'Uncomplicated Malaria'\n",
       "309. 'Non-malaria Infection'\n",
       "310. 'Uncomplicated Malaria'\n",
       "311. 'Uncomplicated Malaria'\n",
       "312. 'Uncomplicated Malaria'\n",
       "313. 'Uncomplicated Malaria'\n",
       "314. 'Non-malaria Infection'\n",
       "315. 'Uncomplicated Malaria'\n",
       "316. 'Uncomplicated Malaria'\n",
       "317. 'Non-malaria Infection'\n",
       "318. 'Non-malaria Infection'\n",
       "319. 'Uncomplicated Malaria'\n",
       "320. 'Uncomplicated Malaria'\n",
       "321. 'Uncomplicated Malaria'\n",
       "322. 'Uncomplicated Malaria'\n",
       "323. 'Uncomplicated Malaria'\n",
       "324. 'Non-malaria Infection'\n",
       "325. 'Non-malaria Infection'\n",
       "326. 'Non-malaria Infection'\n",
       "327. 'Uncomplicated Malaria'\n",
       "328. 'Uncomplicated Malaria'\n",
       "329. 'Non-malaria Infection'\n",
       "330. 'Non-malaria Infection'\n",
       "331. 'Non-malaria Infection'\n",
       "332. 'Uncomplicated Malaria'\n",
       "333. 'Uncomplicated Malaria'\n",
       "334. 'Uncomplicated Malaria'\n",
       "335. 'Uncomplicated Malaria'\n",
       "336. 'Uncomplicated Malaria'\n",
       "337. 'Non-malaria Infection'\n",
       "338. 'Non-malaria Infection'\n",
       "339. 'Uncomplicated Malaria'\n",
       "340. 'Non-malaria Infection'\n",
       "341. 'Non-malaria Infection'\n",
       "342. 'Non-malaria Infection'\n",
       "343. 'Non-malaria Infection'\n",
       "344. 'Non-malaria Infection'\n",
       "345. 'Uncomplicated Malaria'\n",
       "346. 'Non-malaria Infection'\n",
       "347. 'Non-malaria Infection'\n",
       "348. 'Non-malaria Infection'\n",
       "349. 'Uncomplicated Malaria'\n",
       "350. 'Uncomplicated Malaria'\n",
       "351. 'Uncomplicated Malaria'\n",
       "352. 'Non-malaria Infection'\n",
       "353. 'Non-malaria Infection'\n",
       "354. 'Non-malaria Infection'\n",
       "355. 'Uncomplicated Malaria'\n",
       "356. 'Uncomplicated Malaria'\n",
       "357. 'Non-malaria Infection'\n",
       "358. 'Uncomplicated Malaria'\n",
       "359. 'Non-malaria Infection'\n",
       "360. 'Uncomplicated Malaria'\n",
       "361. 'Uncomplicated Malaria'\n",
       "362. 'Uncomplicated Malaria'\n",
       "363. 'Uncomplicated Malaria'\n",
       "364. 'Uncomplicated Malaria'\n",
       "365. 'Uncomplicated Malaria'\n",
       "366. 'Non-malaria Infection'\n",
       "367. 'Uncomplicated Malaria'\n",
       "368. 'Non-malaria Infection'\n",
       "369. 'Non-malaria Infection'\n",
       "370. 'Uncomplicated Malaria'\n",
       "371. 'Uncomplicated Malaria'\n",
       "372. 'Non-malaria Infection'\n",
       "373. 'Uncomplicated Malaria'\n",
       "374. 'Uncomplicated Malaria'\n",
       "375. 'Uncomplicated Malaria'\n",
       "376. 'Non-malaria Infection'\n",
       "377. 'Non-malaria Infection'\n",
       "378. 'Uncomplicated Malaria'\n",
       "379. 'Uncomplicated Malaria'\n",
       "380. 'Uncomplicated Malaria'\n",
       "381. 'Uncomplicated Malaria'\n",
       "382. 'Uncomplicated Malaria'\n",
       "383. 'Non-malaria Infection'\n",
       "384. 'Non-malaria Infection'\n",
       "385. 'Non-malaria Infection'\n",
       "386. 'Non-malaria Infection'\n",
       "387. 'Uncomplicated Malaria'\n",
       "388. 'Uncomplicated Malaria'\n",
       "389. 'Non-malaria Infection'\n",
       "390. 'Uncomplicated Malaria'\n",
       "391. 'Non-malaria Infection'\n",
       "392. 'Non-malaria Infection'\n",
       "393. 'Non-malaria Infection'\n",
       "394. 'Uncomplicated Malaria'\n",
       "395. 'Uncomplicated Malaria'\n",
       "396. 'Non-malaria Infection'\n",
       "397. 'Uncomplicated Malaria'\n",
       "398. 'Non-malaria Infection'\n",
       "399. 'Non-malaria Infection'\n",
       "400. 'Non-malaria Infection'\n",
       "401. 'Non-malaria Infection'\n",
       "\n",
       "\n"
      ],
      "text/plain": [
       "   [1] \"Severe Malaria\"        \"Severe Malaria\"        \"Severe Malaria\"       \n",
       "   [4] \"Severe Malaria\"        \"Severe Malaria\"        \"Severe Malaria\"       \n",
       "   [7] \"Severe Malaria\"        \"Severe Malaria\"        \"Severe Malaria\"       \n",
       "  [10] \"Severe Malaria\"        \"Severe Malaria\"        \"Severe Malaria\"       \n",
       "  [13] \"Severe Malaria\"        \"Severe Malaria\"        \"Severe Malaria\"       \n",
       "  [16] \"Severe Malaria\"        \"Severe Malaria\"        \"Severe Malaria\"       \n",
       "  [19] \"Severe Malaria\"        \"Severe Malaria\"        \"Severe Malaria\"       \n",
       "  [22] \"Severe Malaria\"        \"Severe Malaria\"        \"Severe Malaria\"       \n",
       "  [25] \"Severe Malaria\"        \"Severe Malaria\"        \"Severe Malaria\"       \n",
       "  [28] \"Severe Malaria\"        \"Severe Malaria\"        \"Severe Malaria\"       \n",
       "  [31] \"Severe Malaria\"        \"Severe Malaria\"        \"Severe Malaria\"       \n",
       "  [34] \"Severe Malaria\"        \"Severe Malaria\"        \"Severe Malaria\"       \n",
       "  [37] \"Severe Malaria\"        \"Severe Malaria\"        \"Severe Malaria\"       \n",
       "  [40] \"Severe Malaria\"        \"Severe Malaria\"        \"Severe Malaria\"       \n",
       "  [43] \"Severe Malaria\"        \"Severe Malaria\"        \"Severe Malaria\"       \n",
       "  [46] \"Severe Malaria\"        \"Severe Malaria\"        \"Severe Malaria\"       \n",
       "  [49] \"Severe Malaria\"        \"Severe Malaria\"        \"Severe Malaria\"       \n",
       "  [52] \"Severe Malaria\"        \"Severe Malaria\"        \"Severe Malaria\"       \n",
       "  [55] \"Severe Malaria\"        \"Severe Malaria\"        \"Severe Malaria\"       \n",
       "  [58] \"Severe Malaria\"        \"Severe Malaria\"        \"Severe Malaria\"       \n",
       "  [61] \"Severe Malaria\"        \"Severe Malaria\"        \"Severe Malaria\"       \n",
       "  [64] \"Severe Malaria\"        \"Severe Malaria\"        \"Severe Malaria\"       \n",
       "  [67] \"Severe Malaria\"        \"Severe Malaria\"        \"Severe Malaria\"       \n",
       "  [70] \"Severe Malaria\"        \"Severe Malaria\"        \"Severe Malaria\"       \n",
       "  [73] \"Severe Malaria\"        \"Severe Malaria\"        \"Severe Malaria\"       \n",
       "  [76] \"Severe Malaria\"        \"Severe Malaria\"        \"Severe Malaria\"       \n",
       "  [79] \"Severe Malaria\"        \"Severe Malaria\"        \"Severe Malaria\"       \n",
       "  [82] \"Severe Malaria\"        \"Severe Malaria\"        \"Severe Malaria\"       \n",
       "  [85] \"Severe Malaria\"        \"Severe Malaria\"        \"Severe Malaria\"       \n",
       "  [88] \"Severe Malaria\"        \"Severe Malaria\"        \"Severe Malaria\"       \n",
       "  [91] \"Severe Malaria\"        \"Severe Malaria\"        \"Severe Malaria\"       \n",
       "  [94] \"Severe Malaria\"        \"Severe Malaria\"        \"Severe Malaria\"       \n",
       "  [97] \"Severe Malaria\"        \"Severe Malaria\"        \"Severe Malaria\"       \n",
       " [100] \"Severe Malaria\"        \"Severe Malaria\"        \"Severe Malaria\"       \n",
       " [103] \"Severe Malaria\"        \"Severe Malaria\"        \"Severe Malaria\"       \n",
       " [106] \"Severe Malaria\"        \"Severe Malaria\"        \"Severe Malaria\"       \n",
       " [109] \"Severe Malaria\"        \"Severe Malaria\"        \"Severe Malaria\"       \n",
       " [112] \"Severe Malaria\"        \"Severe Malaria\"        \"Severe Malaria\"       \n",
       " [115] \"Severe Malaria\"        \"Severe Malaria\"        \"Severe Malaria\"       \n",
       " [118] \"Severe Malaria\"        \"Severe Malaria\"        \"Severe Malaria\"       \n",
       " [121] \"Severe Malaria\"        \"Severe Malaria\"        \"Severe Malaria\"       \n",
       " [124] \"Severe Malaria\"        \"Severe Malaria\"        \"Severe Malaria\"       \n",
       " [127] \"Severe Malaria\"        \"Severe Malaria\"        \"Severe Malaria\"       \n",
       " [130] \"Severe Malaria\"        \"Severe Malaria\"        \"Severe Malaria\"       \n",
       " [133] \"Severe Malaria\"        \"Severe Malaria\"        \"Severe Malaria\"       \n",
       " [136] \"Severe Malaria\"        \"Severe Malaria\"        \"Severe Malaria\"       \n",
       " [139] \"Severe Malaria\"        \"Severe Malaria\"        \"Severe Malaria\"       \n",
       " [142] \"Severe Malaria\"        \"Severe Malaria\"        \"Severe Malaria\"       \n",
       " [145] \"Severe Malaria\"        \"Severe Malaria\"        \"Severe Malaria\"       \n",
       " [148] \"Severe Malaria\"        \"Severe Malaria\"        \"Severe Malaria\"       \n",
       " [151] \"Severe Malaria\"        \"Severe Malaria\"        \"Severe Malaria\"       \n",
       " [154] \"Severe Malaria\"        \"Severe Malaria\"        \"Severe Malaria\"       \n",
       " [157] \"Severe Malaria\"        \"Severe Malaria\"        \"Severe Malaria\"       \n",
       " [160] \"Severe Malaria\"        \"Severe Malaria\"        \"Severe Malaria\"       \n",
       " [163] \"Severe Malaria\"        \"Severe Malaria\"        \"Severe Malaria\"       \n",
       " [166] \"Severe Malaria\"        \"Severe Malaria\"        \"Severe Malaria\"       \n",
       " [169] \"Severe Malaria\"        \"Severe Malaria\"        \"Severe Malaria\"       \n",
       " [172] \"Severe Malaria\"        \"Severe Malaria\"        \"Severe Malaria\"       \n",
       " [175] \"Severe Malaria\"        \"Severe Malaria\"        \"Severe Malaria\"       \n",
       " [178] \"Severe Malaria\"        \"Severe Malaria\"        \"Severe Malaria\"       \n",
       " [181] \"Severe Malaria\"        \"Severe Malaria\"        \"Severe Malaria\"       \n",
       " [184] \"Severe Malaria\"        \"Severe Malaria\"        \"Severe Malaria\"       \n",
       " [187] \"Severe Malaria\"        \"Severe Malaria\"        \"Severe Malaria\"       \n",
       " [190] \"Severe Malaria\"        \"Severe Malaria\"        \"Severe Malaria\"       \n",
       " [193] \"Severe Malaria\"        \"Severe Malaria\"        \"Severe Malaria\"       \n",
       " [196] \"Severe Malaria\"        \"Severe Malaria\"        \"Severe Malaria\"       \n",
       " [199] \"Severe Malaria\"        \"Severe Malaria\"        \"Severe Malaria\"       \n",
       " [202] \"Severe Malaria\"        \"Severe Malaria\"        \"Severe Malaria\"       \n",
       " [205] \"Severe Malaria\"        \"Severe Malaria\"        \"Severe Malaria\"       \n",
       " [208] \"Severe Malaria\"        \"Severe Malaria\"        \"Severe Malaria\"       \n",
       " [211] \"Severe Malaria\"        \"Severe Malaria\"        \"Severe Malaria\"       \n",
       " [214] \"Severe Malaria\"        \"Severe Malaria\"        \"Severe Malaria\"       \n",
       " [217] \"Severe Malaria\"        \"Severe Malaria\"        \"Severe Malaria\"       \n",
       " [220] \"Severe Malaria\"        \"Severe Malaria\"        \"Severe Malaria\"       \n",
       " [223] \"Severe Malaria\"        \"Severe Malaria\"        \"Severe Malaria\"       \n",
       " [226] \"Severe Malaria\"        \"Severe Malaria\"        \"Severe Malaria\"       \n",
       " [229] \"Severe Malaria\"        \"Severe Malaria\"        \"Severe Malaria\"       \n",
       " [232] \"Severe Malaria\"        \"Severe Malaria\"        \"Severe Malaria\"       \n",
       " [235] \"Severe Malaria\"        \"Severe Malaria\"        \"Severe Malaria\"       \n",
       " [238] \"Severe Malaria\"        \"Severe Malaria\"        \"Severe Malaria\"       \n",
       " [241] \"Severe Malaria\"        \"Severe Malaria\"        \"Severe Malaria\"       \n",
       " [244] \"Severe Malaria\"        \"Severe Malaria\"        \"Severe Malaria\"       \n",
       " [247] \"Severe Malaria\"        \"Severe Malaria\"        \"Severe Malaria\"       \n",
       " [250] \"Severe Malaria\"        \"Severe Malaria\"        \"Severe Malaria\"       \n",
       " [253] \"Severe Malaria\"        \"Severe Malaria\"        \"Severe Malaria\"       \n",
       " [256] \"Severe Malaria\"        \"Severe Malaria\"        \"Severe Malaria\"       \n",
       " [259] \"Severe Malaria\"        \"Severe Malaria\"        \"Severe Malaria\"       \n",
       " [262] \"Severe Malaria\"        \"Severe Malaria\"        \"Severe Malaria\"       \n",
       " [265] \"Severe Malaria\"        \"Severe Malaria\"        \"Severe Malaria\"       \n",
       " [268] \"Severe Malaria\"        \"Severe Malaria\"        \"Severe Malaria\"       \n",
       " [271] \"Severe Malaria\"        \"Severe Malaria\"        \"Severe Malaria\"       \n",
       " [274] \"Severe Malaria\"        \"Severe Malaria\"        \"Severe Malaria\"       \n",
       " [277] \"Severe Malaria\"        \"Severe Malaria\"        \"Severe Malaria\"       \n",
       " [280] \"Severe Malaria\"        \"Severe Malaria\"        \"Severe Malaria\"       \n",
       " [283] \"Severe Malaria\"        \"Severe Malaria\"        \"Severe Malaria\"       \n",
       " [286] \"Severe Malaria\"        \"Severe Malaria\"        \"Severe Malaria\"       \n",
       " [289] \"Severe Malaria\"        \"Severe Malaria\"        \"Severe Malaria\"       \n",
       " [292] \"Severe Malaria\"        \"Severe Malaria\"        \"Severe Malaria\"       \n",
       " [295] \"Severe Malaria\"        \"Severe Malaria\"        \"Severe Malaria\"       \n",
       " [298] \"Severe Malaria\"        \"Severe Malaria\"        \"Severe Malaria\"       \n",
       " [301] \"Severe Malaria\"        \"Severe Malaria\"        \"Severe Malaria\"       \n",
       " [304] \"Severe Malaria\"        \"Severe Malaria\"        \"Severe Malaria\"       \n",
       " [307] \"Severe Malaria\"        \"Severe Malaria\"        \"Severe Malaria\"       \n",
       " [310] \"Severe Malaria\"        \"Severe Malaria\"        \"Severe Malaria\"       \n",
       " [313] \"Severe Malaria\"        \"Severe Malaria\"        \"Severe Malaria\"       \n",
       " [316] \"Severe Malaria\"        \"Severe Malaria\"        \"Severe Malaria\"       \n",
       " [319] \"Severe Malaria\"        \"Severe Malaria\"        \"Severe Malaria\"       \n",
       " [322] \"Severe Malaria\"        \"Severe Malaria\"        \"Severe Malaria\"       \n",
       " [325] \"Severe Malaria\"        \"Severe Malaria\"        \"Severe Malaria\"       \n",
       " [328] \"Severe Malaria\"        \"Severe Malaria\"        \"Severe Malaria\"       \n",
       " [331] \"Severe Malaria\"        \"Severe Malaria\"        \"Severe Malaria\"       \n",
       " [334] \"Severe Malaria\"        \"Severe Malaria\"        \"Severe Malaria\"       \n",
       " [337] \"Severe Malaria\"        \"Severe Malaria\"        \"Severe Malaria\"       \n",
       " [340] \"Severe Malaria\"        \"Severe Malaria\"        \"Severe Malaria\"       \n",
       " [343] \"Severe Malaria\"        \"Severe Malaria\"        \"Severe Malaria\"       \n",
       " [346] \"Severe Malaria\"        \"Severe Malaria\"        \"Severe Malaria\"       \n",
       " [349] \"Severe Malaria\"        \"Severe Malaria\"        \"Severe Malaria\"       \n",
       " [352] \"Severe Malaria\"        \"Severe Malaria\"        \"Severe Malaria\"       \n",
       " [355] \"Severe Malaria\"        \"Severe Malaria\"        \"Severe Malaria\"       \n",
       " [358] \"Severe Malaria\"        \"Severe Malaria\"        \"Severe Malaria\"       \n",
       " [361] \"Severe Malaria\"        \"Severe Malaria\"        \"Severe Malaria\"       \n",
       " [364] \"Severe Malaria\"        \"Severe Malaria\"        \"Severe Malaria\"       \n",
       " [367] \"Severe Malaria\"        \"Severe Malaria\"        \"Severe Malaria\"       \n",
       " [370] \"Severe Malaria\"        \"Severe Malaria\"        \"Severe Malaria\"       \n",
       " [373] \"Severe Malaria\"        \"Severe Malaria\"        \"Severe Malaria\"       \n",
       " [376] \"Severe Malaria\"        \"Severe Malaria\"        \"Severe Malaria\"       \n",
       " [379] \"Severe Malaria\"        \"Severe Malaria\"        \"Severe Malaria\"       \n",
       " [382] \"Severe Malaria\"        \"Severe Malaria\"        \"Severe Malaria\"       \n",
       " [385] \"Severe Malaria\"        \"Severe Malaria\"        \"Severe Malaria\"       \n",
       " [388] \"Severe Malaria\"        \"Severe Malaria\"        \"Severe Malaria\"       \n",
       " [391] \"Severe Malaria\"        \"Severe Malaria\"        \"Severe Malaria\"       \n",
       " [394] \"Severe Malaria\"        \"Severe Malaria\"        \"Severe Malaria\"       \n",
       " [397] \"Severe Malaria\"        \"Severe Malaria\"        \"Severe Malaria\"       \n",
       " [400] \"Severe Malaria\"        \"Severe Malaria\"        \"Severe Malaria\"       \n",
       " [403] \"Severe Malaria\"        \"Severe Malaria\"        \"Severe Malaria\"       \n",
       " [406] \"Severe Malaria\"        \"Severe Malaria\"        \"Severe Malaria\"       \n",
       " [409] \"Severe Malaria\"        \"Severe Malaria\"        \"Severe Malaria\"       \n",
       " [412] \"Severe Malaria\"        \"Severe Malaria\"        \"Severe Malaria\"       \n",
       " [415] \"Severe Malaria\"        \"Severe Malaria\"        \"Severe Malaria\"       \n",
       " [418] \"Severe Malaria\"        \"Severe Malaria\"        \"Severe Malaria\"       \n",
       " [421] \"Severe Malaria\"        \"Severe Malaria\"        \"Severe Malaria\"       \n",
       " [424] \"Severe Malaria\"        \"Severe Malaria\"        \"Severe Malaria\"       \n",
       " [427] \"Severe Malaria\"        \"Severe Malaria\"        \"Severe Malaria\"       \n",
       " [430] \"Severe Malaria\"        \"Severe Malaria\"        \"Severe Malaria\"       \n",
       " [433] \"Severe Malaria\"        \"Severe Malaria\"        \"Severe Malaria\"       \n",
       " [436] \"Severe Malaria\"        \"Severe Malaria\"        \"Severe Malaria\"       \n",
       " [439] \"Severe Malaria\"        \"Severe Malaria\"        \"Severe Malaria\"       \n",
       " [442] \"Severe Malaria\"        \"Severe Malaria\"        \"Severe Malaria\"       \n",
       " [445] \"Severe Malaria\"        \"Severe Malaria\"        \"Severe Malaria\"       \n",
       " [448] \"Severe Malaria\"        \"Severe Malaria\"        \"Severe Malaria\"       \n",
       " [451] \"Severe Malaria\"        \"Severe Malaria\"        \"Severe Malaria\"       \n",
       " [454] \"Severe Malaria\"        \"Severe Malaria\"        \"Severe Malaria\"       \n",
       " [457] \"Severe Malaria\"        \"Severe Malaria\"        \"Severe Malaria\"       \n",
       " [460] \"Severe Malaria\"        \"Severe Malaria\"        \"Severe Malaria\"       \n",
       " [463] \"Severe Malaria\"        \"Severe Malaria\"        \"Severe Malaria\"       \n",
       " [466] \"Severe Malaria\"        \"Severe Malaria\"        \"Severe Malaria\"       \n",
       " [469] \"Severe Malaria\"        \"Severe Malaria\"        \"Severe Malaria\"       \n",
       " [472] \"Severe Malaria\"        \"Severe Malaria\"        \"Severe Malaria\"       \n",
       " [475] \"Severe Malaria\"        \"Severe Malaria\"        \"Severe Malaria\"       \n",
       " [478] \"Severe Malaria\"        \"Severe Malaria\"        \"Severe Malaria\"       \n",
       " [481] \"Severe Malaria\"        \"Severe Malaria\"        \"Severe Malaria\"       \n",
       " [484] \"Severe Malaria\"        \"Severe Malaria\"        \"Severe Malaria\"       \n",
       " [487] \"Severe Malaria\"        \"Severe Malaria\"        \"Severe Malaria\"       \n",
       " [490] \"Severe Malaria\"        \"Severe Malaria\"        \"Severe Malaria\"       \n",
       " [493] \"Severe Malaria\"        \"Severe Malaria\"        \"Severe Malaria\"       \n",
       " [496] \"Severe Malaria\"        \"Severe Malaria\"        \"Severe Malaria\"       \n",
       " [499] \"Severe Malaria\"        \"Severe Malaria\"        \"Severe Malaria\"       \n",
       " [502] \"Severe Malaria\"        \"Severe Malaria\"        \"Severe Malaria\"       \n",
       " [505] \"Severe Malaria\"        \"Severe Malaria\"        \"Severe Malaria\"       \n",
       " [508] \"Severe Malaria\"        \"Severe Malaria\"        \"Severe Malaria\"       \n",
       " [511] \"Severe Malaria\"        \"Severe Malaria\"        \"Severe Malaria\"       \n",
       " [514] \"Severe Malaria\"        \"Severe Malaria\"        \"Severe Malaria\"       \n",
       " [517] \"Severe Malaria\"        \"Severe Malaria\"        \"Severe Malaria\"       \n",
       " [520] \"Severe Malaria\"        \"Severe Malaria\"        \"Severe Malaria\"       \n",
       " [523] \"Severe Malaria\"        \"Severe Malaria\"        \"Severe Malaria\"       \n",
       " [526] \"Severe Malaria\"        \"Uncomplicated Malaria\" \"Uncomplicated Malaria\"\n",
       " [529] \"Uncomplicated Malaria\" \"Uncomplicated Malaria\" \"Uncomplicated Malaria\"\n",
       " [532] \"Uncomplicated Malaria\" \"Uncomplicated Malaria\" \"Uncomplicated Malaria\"\n",
       " [535] \"Uncomplicated Malaria\" \"Uncomplicated Malaria\" \"Uncomplicated Malaria\"\n",
       " [538] \"Uncomplicated Malaria\" \"Uncomplicated Malaria\" \"Uncomplicated Malaria\"\n",
       " [541] \"Uncomplicated Malaria\" \"Uncomplicated Malaria\" \"Uncomplicated Malaria\"\n",
       " [544] \"Uncomplicated Malaria\" \"Uncomplicated Malaria\" \"Uncomplicated Malaria\"\n",
       " [547] \"Uncomplicated Malaria\" \"Uncomplicated Malaria\" \"Uncomplicated Malaria\"\n",
       " [550] \"Uncomplicated Malaria\" \"Uncomplicated Malaria\" \"Uncomplicated Malaria\"\n",
       " [553] \"Uncomplicated Malaria\" \"Uncomplicated Malaria\" \"Uncomplicated Malaria\"\n",
       " [556] \"Uncomplicated Malaria\" \"Uncomplicated Malaria\" \"Uncomplicated Malaria\"\n",
       " [559] \"Non-malaria Infection\" \"Uncomplicated Malaria\" \"Uncomplicated Malaria\"\n",
       " [562] \"Uncomplicated Malaria\" \"Non-malaria Infection\" \"Non-malaria Infection\"\n",
       " [565] \"Non-malaria Infection\" \"Uncomplicated Malaria\" \"Uncomplicated Malaria\"\n",
       " [568] \"Non-malaria Infection\" \"Uncomplicated Malaria\" \"Uncomplicated Malaria\"\n",
       " [571] \"Uncomplicated Malaria\" \"Uncomplicated Malaria\" \"Uncomplicated Malaria\"\n",
       " [574] \"Uncomplicated Malaria\" \"Uncomplicated Malaria\" \"Uncomplicated Malaria\"\n",
       " [577] \"Uncomplicated Malaria\" \"Uncomplicated Malaria\" \"Uncomplicated Malaria\"\n",
       " [580] \"Uncomplicated Malaria\" \"Uncomplicated Malaria\" \"Uncomplicated Malaria\"\n",
       " [583] \"Uncomplicated Malaria\" \"Uncomplicated Malaria\" \"Uncomplicated Malaria\"\n",
       " [586] \"Uncomplicated Malaria\" \"Uncomplicated Malaria\" \"Uncomplicated Malaria\"\n",
       " [589] \"Uncomplicated Malaria\" \"Uncomplicated Malaria\" \"Uncomplicated Malaria\"\n",
       " [592] \"Uncomplicated Malaria\" \"Uncomplicated Malaria\" \"Uncomplicated Malaria\"\n",
       " [595] \"Non-malaria Infection\" \"Uncomplicated Malaria\" \"Uncomplicated Malaria\"\n",
       " [598] \"Uncomplicated Malaria\" \"Uncomplicated Malaria\" \"Uncomplicated Malaria\"\n",
       " [601] \"Uncomplicated Malaria\" \"Uncomplicated Malaria\" \"Uncomplicated Malaria\"\n",
       " [604] \"Non-malaria Infection\" \"Uncomplicated Malaria\" \"Uncomplicated Malaria\"\n",
       " [607] \"Uncomplicated Malaria\" \"Uncomplicated Malaria\" \"Uncomplicated Malaria\"\n",
       " [610] \"Uncomplicated Malaria\" \"Uncomplicated Malaria\" \"Uncomplicated Malaria\"\n",
       " [613] \"Uncomplicated Malaria\" \"Uncomplicated Malaria\" \"Uncomplicated Malaria\"\n",
       " [616] \"Uncomplicated Malaria\" \"Uncomplicated Malaria\" \"Uncomplicated Malaria\"\n",
       " [619] \"Uncomplicated Malaria\" \"Uncomplicated Malaria\" \"Uncomplicated Malaria\"\n",
       " [622] \"Uncomplicated Malaria\" \"Uncomplicated Malaria\" \"Uncomplicated Malaria\"\n",
       " [625] \"Uncomplicated Malaria\" \"Uncomplicated Malaria\" \"Uncomplicated Malaria\"\n",
       " [628] \"Uncomplicated Malaria\" \"Uncomplicated Malaria\" \"Uncomplicated Malaria\"\n",
       " [631] \"Uncomplicated Malaria\" \"Uncomplicated Malaria\" \"Uncomplicated Malaria\"\n",
       " [634] \"Uncomplicated Malaria\" \"Uncomplicated Malaria\" \"Uncomplicated Malaria\"\n",
       " [637] \"Uncomplicated Malaria\" \"Uncomplicated Malaria\" \"Uncomplicated Malaria\"\n",
       " [640] \"Uncomplicated Malaria\" \"Uncomplicated Malaria\" \"Uncomplicated Malaria\"\n",
       " [643] \"Uncomplicated Malaria\" \"Uncomplicated Malaria\" \"Non-malaria Infection\"\n",
       " [646] \"Uncomplicated Malaria\" \"Non-malaria Infection\" \"Uncomplicated Malaria\"\n",
       " [649] \"Uncomplicated Malaria\" \"Uncomplicated Malaria\" \"Uncomplicated Malaria\"\n",
       " [652] \"Uncomplicated Malaria\" \"Uncomplicated Malaria\" \"Uncomplicated Malaria\"\n",
       " [655] \"Uncomplicated Malaria\" \"Uncomplicated Malaria\" \"Uncomplicated Malaria\"\n",
       " [658] \"Uncomplicated Malaria\" \"Uncomplicated Malaria\" \"Uncomplicated Malaria\"\n",
       " [661] \"Uncomplicated Malaria\" \"Uncomplicated Malaria\" \"Uncomplicated Malaria\"\n",
       " [664] \"Uncomplicated Malaria\" \"Uncomplicated Malaria\" \"Uncomplicated Malaria\"\n",
       " [667] \"Uncomplicated Malaria\" \"Uncomplicated Malaria\" \"Uncomplicated Malaria\"\n",
       " [670] \"Uncomplicated Malaria\" \"Uncomplicated Malaria\" \"Uncomplicated Malaria\"\n",
       " [673] \"Uncomplicated Malaria\" \"Uncomplicated Malaria\" \"Uncomplicated Malaria\"\n",
       " [676] \"Uncomplicated Malaria\" \"Uncomplicated Malaria\" \"Uncomplicated Malaria\"\n",
       " [679] \"Uncomplicated Malaria\" \"Uncomplicated Malaria\" \"Uncomplicated Malaria\"\n",
       " [682] \"Uncomplicated Malaria\" \"Uncomplicated Malaria\" \"Uncomplicated Malaria\"\n",
       " [685] \"Uncomplicated Malaria\" \"Uncomplicated Malaria\" \"Uncomplicated Malaria\"\n",
       " [688] \"Uncomplicated Malaria\" \"Uncomplicated Malaria\" \"Uncomplicated Malaria\"\n",
       " [691] \"Uncomplicated Malaria\" \"Uncomplicated Malaria\" \"Uncomplicated Malaria\"\n",
       " [694] \"Uncomplicated Malaria\" \"Uncomplicated Malaria\" \"Uncomplicated Malaria\"\n",
       " [697] \"Non-malaria Infection\" \"Uncomplicated Malaria\" \"Uncomplicated Malaria\"\n",
       " [700] \"Uncomplicated Malaria\" \"Uncomplicated Malaria\" \"Uncomplicated Malaria\"\n",
       " [703] \"Uncomplicated Malaria\" \"Uncomplicated Malaria\" \"Uncomplicated Malaria\"\n",
       " [706] \"Uncomplicated Malaria\" \"Uncomplicated Malaria\" \"Uncomplicated Malaria\"\n",
       " [709] \"Uncomplicated Malaria\" \"Uncomplicated Malaria\" \"Uncomplicated Malaria\"\n",
       " [712] \"Uncomplicated Malaria\" \"Uncomplicated Malaria\" \"Uncomplicated Malaria\"\n",
       " [715] \"Uncomplicated Malaria\" \"Uncomplicated Malaria\" \"Uncomplicated Malaria\"\n",
       " [718] \"Uncomplicated Malaria\" \"Uncomplicated Malaria\" \"Uncomplicated Malaria\"\n",
       " [721] \"Uncomplicated Malaria\" \"Uncomplicated Malaria\" \"Uncomplicated Malaria\"\n",
       " [724] \"Uncomplicated Malaria\" \"Uncomplicated Malaria\" \"Non-malaria Infection\"\n",
       " [727] \"Uncomplicated Malaria\" \"Non-malaria Infection\" \"Non-malaria Infection\"\n",
       " [730] \"Uncomplicated Malaria\" \"Non-malaria Infection\" \"Non-malaria Infection\"\n",
       " [733] \"Uncomplicated Malaria\" \"Uncomplicated Malaria\" \"Non-malaria Infection\"\n",
       " [736] \"Uncomplicated Malaria\" \"Uncomplicated Malaria\" \"Uncomplicated Malaria\"\n",
       " [739] \"Non-malaria Infection\" \"Uncomplicated Malaria\" \"Uncomplicated Malaria\"\n",
       " [742] \"Non-malaria Infection\" \"Uncomplicated Malaria\" \"Uncomplicated Malaria\"\n",
       " [745] \"Uncomplicated Malaria\" \"Uncomplicated Malaria\" \"Uncomplicated Malaria\"\n",
       " [748] \"Uncomplicated Malaria\" \"Uncomplicated Malaria\" \"Uncomplicated Malaria\"\n",
       " [751] \"Uncomplicated Malaria\" \"Uncomplicated Malaria\" \"Uncomplicated Malaria\"\n",
       " [754] \"Non-malaria Infection\" \"Uncomplicated Malaria\" \"Uncomplicated Malaria\"\n",
       " [757] \"Uncomplicated Malaria\" \"Uncomplicated Malaria\" \"Uncomplicated Malaria\"\n",
       " [760] \"Non-malaria Infection\" \"Non-malaria Infection\" \"Uncomplicated Malaria\"\n",
       " [763] \"Uncomplicated Malaria\" \"Non-malaria Infection\" \"Non-malaria Infection\"\n",
       " [766] \"Uncomplicated Malaria\" \"Uncomplicated Malaria\" \"Uncomplicated Malaria\"\n",
       " [769] \"Uncomplicated Malaria\" \"Uncomplicated Malaria\" \"Uncomplicated Malaria\"\n",
       " [772] \"Uncomplicated Malaria\" \"Uncomplicated Malaria\" \"Uncomplicated Malaria\"\n",
       " [775] \"Uncomplicated Malaria\" \"Uncomplicated Malaria\" \"Uncomplicated Malaria\"\n",
       " [778] \"Uncomplicated Malaria\" \"Uncomplicated Malaria\" \"Uncomplicated Malaria\"\n",
       " [781] \"Uncomplicated Malaria\" \"Uncomplicated Malaria\" \"Uncomplicated Malaria\"\n",
       " [784] \"Uncomplicated Malaria\" \"Uncomplicated Malaria\" \"Uncomplicated Malaria\"\n",
       " [787] \"Uncomplicated Malaria\" \"Uncomplicated Malaria\" \"Uncomplicated Malaria\"\n",
       " [790] \"Uncomplicated Malaria\" \"Uncomplicated Malaria\" \"Uncomplicated Malaria\"\n",
       " [793] \"Uncomplicated Malaria\" \"Uncomplicated Malaria\" \"Uncomplicated Malaria\"\n",
       " [796] \"Uncomplicated Malaria\" \"Uncomplicated Malaria\" \"Uncomplicated Malaria\"\n",
       " [799] \"Uncomplicated Malaria\" \"Uncomplicated Malaria\" \"Uncomplicated Malaria\"\n",
       " [802] \"Uncomplicated Malaria\" \"Uncomplicated Malaria\" \"Uncomplicated Malaria\"\n",
       " [805] \"Uncomplicated Malaria\" \"Uncomplicated Malaria\" \"Uncomplicated Malaria\"\n",
       " [808] \"Uncomplicated Malaria\" \"Uncomplicated Malaria\" \"Uncomplicated Malaria\"\n",
       " [811] \"Uncomplicated Malaria\" \"Uncomplicated Malaria\" \"Uncomplicated Malaria\"\n",
       " [814] \"Uncomplicated Malaria\" \"Uncomplicated Malaria\" \"Uncomplicated Malaria\"\n",
       " [817] \"Uncomplicated Malaria\" \"Uncomplicated Malaria\" \"Uncomplicated Malaria\"\n",
       " [820] \"Uncomplicated Malaria\" \"Uncomplicated Malaria\" \"Uncomplicated Malaria\"\n",
       " [823] \"Uncomplicated Malaria\" \"Uncomplicated Malaria\" \"Uncomplicated Malaria\"\n",
       " [826] \"Uncomplicated Malaria\" \"Uncomplicated Malaria\" \"Uncomplicated Malaria\"\n",
       " [829] \"Uncomplicated Malaria\" \"Uncomplicated Malaria\" \"Uncomplicated Malaria\"\n",
       " [832] \"Uncomplicated Malaria\" \"Uncomplicated Malaria\" \"Uncomplicated Malaria\"\n",
       " [835] \"Uncomplicated Malaria\" \"Uncomplicated Malaria\" \"Uncomplicated Malaria\"\n",
       " [838] \"Uncomplicated Malaria\" \"Uncomplicated Malaria\" \"Uncomplicated Malaria\"\n",
       " [841] \"Uncomplicated Malaria\" \"Uncomplicated Malaria\" \"Uncomplicated Malaria\"\n",
       " [844] \"Uncomplicated Malaria\" \"Uncomplicated Malaria\" \"Uncomplicated Malaria\"\n",
       " [847] \"Uncomplicated Malaria\" \"Uncomplicated Malaria\" \"Uncomplicated Malaria\"\n",
       " [850] \"Uncomplicated Malaria\" \"Uncomplicated Malaria\" \"Uncomplicated Malaria\"\n",
       " [853] \"Uncomplicated Malaria\" \"Uncomplicated Malaria\" \"Uncomplicated Malaria\"\n",
       " [856] \"Uncomplicated Malaria\" \"Uncomplicated Malaria\" \"Uncomplicated Malaria\"\n",
       " [859] \"Uncomplicated Malaria\" \"Uncomplicated Malaria\" \"Uncomplicated Malaria\"\n",
       " [862] \"Uncomplicated Malaria\" \"Uncomplicated Malaria\" \"Uncomplicated Malaria\"\n",
       " [865] \"Uncomplicated Malaria\" \"Non-malaria Infection\" \"Non-malaria Infection\"\n",
       " [868] \"Non-malaria Infection\" \"Non-malaria Infection\" \"Non-malaria Infection\"\n",
       " [871] \"Non-malaria Infection\" \"Non-malaria Infection\" \"Non-malaria Infection\"\n",
       " [874] \"Uncomplicated Malaria\" \"Non-malaria Infection\" \"Non-malaria Infection\"\n",
       " [877] \"Uncomplicated Malaria\" \"Non-malaria Infection\" \"Non-malaria Infection\"\n",
       " [880] \"Non-malaria Infection\" \"Non-malaria Infection\" \"Non-malaria Infection\"\n",
       " [883] \"Non-malaria Infection\" \"Uncomplicated Malaria\" \"Non-malaria Infection\"\n",
       " [886] \"Non-malaria Infection\" \"Non-malaria Infection\" \"Non-malaria Infection\"\n",
       " [889] \"Non-malaria Infection\" \"Uncomplicated Malaria\" \"Non-malaria Infection\"\n",
       " [892] \"Non-malaria Infection\" \"Non-malaria Infection\" \"Non-malaria Infection\"\n",
       " [895] \"Non-malaria Infection\" \"Uncomplicated Malaria\" \"Uncomplicated Malaria\"\n",
       " [898] \"Non-malaria Infection\" \"Uncomplicated Malaria\" \"Non-malaria Infection\"\n",
       " [901] \"Non-malaria Infection\" \"Non-malaria Infection\" \"Non-malaria Infection\"\n",
       " [904] \"Non-malaria Infection\" \"Non-malaria Infection\" \"Non-malaria Infection\"\n",
       " [907] \"Non-malaria Infection\" \"Non-malaria Infection\" \"Non-malaria Infection\"\n",
       " [910] \"Non-malaria Infection\" \"Non-malaria Infection\" \"Non-malaria Infection\"\n",
       " [913] \"Non-malaria Infection\" \"Non-malaria Infection\" \"Non-malaria Infection\"\n",
       " [916] \"Uncomplicated Malaria\" \"Non-malaria Infection\" \"Non-malaria Infection\"\n",
       " [919] \"Non-malaria Infection\" \"Non-malaria Infection\" \"Non-malaria Infection\"\n",
       " [922] \"Uncomplicated Malaria\" \"Uncomplicated Malaria\" \"Non-malaria Infection\"\n",
       " [925] \"Non-malaria Infection\" \"Non-malaria Infection\" \"Non-malaria Infection\"\n",
       " [928] \"Non-malaria Infection\" \"Non-malaria Infection\" \"Uncomplicated Malaria\"\n",
       " [931] \"Non-malaria Infection\" \"Uncomplicated Malaria\" \"Uncomplicated Malaria\"\n",
       " [934] \"Uncomplicated Malaria\" \"Non-malaria Infection\" \"Uncomplicated Malaria\"\n",
       " [937] \"Uncomplicated Malaria\" \"Non-malaria Infection\" \"Non-malaria Infection\"\n",
       " [940] \"Uncomplicated Malaria\" \"Non-malaria Infection\" \"Non-malaria Infection\"\n",
       " [943] \"Uncomplicated Malaria\" \"Non-malaria Infection\" \"Non-malaria Infection\"\n",
       " [946] \"Non-malaria Infection\" \"Non-malaria Infection\" \"Non-malaria Infection\"\n",
       " [949] \"Uncomplicated Malaria\" \"Non-malaria Infection\" \"Uncomplicated Malaria\"\n",
       " [952] \"Non-malaria Infection\" \"Non-malaria Infection\" \"Non-malaria Infection\"\n",
       " [955] \"Non-malaria Infection\" \"Non-malaria Infection\" \"Non-malaria Infection\"\n",
       " [958] \"Non-malaria Infection\" \"Non-malaria Infection\" \"Non-malaria Infection\"\n",
       " [961] \"Non-malaria Infection\" \"Non-malaria Infection\" \"Uncomplicated Malaria\"\n",
       " [964] \"Non-malaria Infection\" \"Non-malaria Infection\" \"Non-malaria Infection\"\n",
       " [967] \"Non-malaria Infection\" \"Non-malaria Infection\" \"Non-malaria Infection\"\n",
       " [970] \"Non-malaria Infection\" \"Non-malaria Infection\" \"Non-malaria Infection\"\n",
       " [973] \"Non-malaria Infection\" \"Non-malaria Infection\" \"Non-malaria Infection\"\n",
       " [976] \"Non-malaria Infection\" \"Non-malaria Infection\" \"Non-malaria Infection\"\n",
       " [979] \"Non-malaria Infection\" \"Non-malaria Infection\" \"Non-malaria Infection\"\n",
       " [982] \"Non-malaria Infection\" \"Non-malaria Infection\" \"Non-malaria Infection\"\n",
       " [985] \"Non-malaria Infection\" \"Non-malaria Infection\" \"Non-malaria Infection\"\n",
       " [988] \"Non-malaria Infection\" \"Non-malaria Infection\" \"Non-malaria Infection\"\n",
       " [991] \"Non-malaria Infection\" \"Non-malaria Infection\" \"Non-malaria Infection\"\n",
       " [994] \"Non-malaria Infection\" \"Non-malaria Infection\" \"Non-malaria Infection\"\n",
       " [997] \"Non-malaria Infection\" \"Uncomplicated Malaria\" \"Non-malaria Infection\"\n",
       "[1000] \"Non-malaria Infection\" \"Non-malaria Infection\" \"Non-malaria Infection\"\n",
       "[1003] \"Non-malaria Infection\" \"Uncomplicated Malaria\" \"Non-malaria Infection\"\n",
       "[1006] \"Uncomplicated Malaria\" \"Non-malaria Infection\" \"Non-malaria Infection\"\n",
       "[1009] \"Non-malaria Infection\" \"Non-malaria Infection\" \"Uncomplicated Malaria\"\n",
       "[1012] \"Non-malaria Infection\" \"Non-malaria Infection\" \"Non-malaria Infection\"\n",
       "[1015] \"Non-malaria Infection\" \"Non-malaria Infection\" \"Non-malaria Infection\"\n",
       "[1018] \"Non-malaria Infection\" \"Uncomplicated Malaria\" \"Non-malaria Infection\"\n",
       "[1021] \"Non-malaria Infection\" \"Non-malaria Infection\" \"Uncomplicated Malaria\"\n",
       "[1024] \"Non-malaria Infection\" \"Non-malaria Infection\" \"Non-malaria Infection\"\n",
       "[1027] \"Non-malaria Infection\" \"Non-malaria Infection\" \"Non-malaria Infection\"\n",
       "[1030] \"Non-malaria Infection\" \"Non-malaria Infection\" \"Non-malaria Infection\"\n",
       "[1033] \"Non-malaria Infection\" \"Non-malaria Infection\" \"Non-malaria Infection\"\n",
       "[1036] \"Non-malaria Infection\" \"Uncomplicated Malaria\" \"Non-malaria Infection\"\n",
       "[1039] \"Uncomplicated Malaria\" \"Non-malaria Infection\" \"Non-malaria Infection\"\n",
       "[1042] \"Non-malaria Infection\" \"Non-malaria Infection\" \"Non-malaria Infection\"\n",
       "[1045] \"Non-malaria Infection\" \"Non-malaria Infection\" \"Non-malaria Infection\"\n",
       "[1048] \"Non-malaria Infection\" \"Non-malaria Infection\" \"Non-malaria Infection\"\n",
       "[1051] \"Non-malaria Infection\" \"Non-malaria Infection\" \"Non-malaria Infection\"\n",
       "[1054] \"Uncomplicated Malaria\" \"Non-malaria Infection\" \"Non-malaria Infection\"\n",
       "[1057] \"Non-malaria Infection\" \"Non-malaria Infection\" \"Non-malaria Infection\"\n",
       "[1060] \"Non-malaria Infection\" \"Non-malaria Infection\" \"Non-malaria Infection\"\n",
       "[1063] \"Non-malaria Infection\" \"Non-malaria Infection\" \"Non-malaria Infection\"\n",
       "[1066] \"Non-malaria Infection\" \"Uncomplicated Malaria\" \"Non-malaria Infection\"\n",
       "[1069] \"Non-malaria Infection\" \"Non-malaria Infection\" \"Non-malaria Infection\"\n",
       "[1072] \"Uncomplicated Malaria\" \"Non-malaria Infection\" \"Non-malaria Infection\"\n",
       "[1075] \"Non-malaria Infection\" \"Uncomplicated Malaria\" \"Uncomplicated Malaria\"\n",
       "[1078] \"Non-malaria Infection\" \"Uncomplicated Malaria\" \"Non-malaria Infection\"\n",
       "[1081] \"Non-malaria Infection\" \"Uncomplicated Malaria\" \"Non-malaria Infection\"\n",
       "[1084] \"Non-malaria Infection\" \"Non-malaria Infection\" \"Uncomplicated Malaria\"\n",
       "[1087] \"Non-malaria Infection\" \"Non-malaria Infection\" \"Non-malaria Infection\"\n",
       "[1090] \"Uncomplicated Malaria\" \"Uncomplicated Malaria\" \"Non-malaria Infection\"\n",
       "[1093] \"Non-malaria Infection\" \"Non-malaria Infection\" \"Non-malaria Infection\"\n",
       "[1096] \"Non-malaria Infection\" \"Uncomplicated Malaria\" \"Non-malaria Infection\"\n",
       "[1099] \"Non-malaria Infection\" \"Uncomplicated Malaria\" \"Non-malaria Infection\"\n",
       "[1102] \"Non-malaria Infection\" \"Non-malaria Infection\" \"Non-malaria Infection\"\n",
       "[1105] \"Non-malaria Infection\" \"Non-malaria Infection\" \"Non-malaria Infection\"\n",
       "[1108] \"Non-malaria Infection\" \"Non-malaria Infection\" \"Uncomplicated Malaria\"\n",
       "[1111] \"Non-malaria Infection\" \"Uncomplicated Malaria\" \"Uncomplicated Malaria\"\n",
       "[1114] \"Non-malaria Infection\" \"Non-malaria Infection\" \"Uncomplicated Malaria\"\n",
       "[1117] \"Non-malaria Infection\" \"Non-malaria Infection\" \"Non-malaria Infection\"\n",
       "[1120] \"Non-malaria Infection\" \"Non-malaria Infection\" \"Uncomplicated Malaria\"\n",
       "[1123] \"Uncomplicated Malaria\" \"Non-malaria Infection\" \"Non-malaria Infection\"\n",
       "[1126] \"Non-malaria Infection\" \"Non-malaria Infection\" \"Non-malaria Infection\"\n",
       "[1129] \"Non-malaria Infection\" \"Non-malaria Infection\" \"Non-malaria Infection\"\n",
       "[1132] \"Non-malaria Infection\" \"Non-malaria Infection\" \"Uncomplicated Malaria\"\n",
       "[1135] \"Uncomplicated Malaria\" \"Non-malaria Infection\" \"Non-malaria Infection\"\n",
       "[1138] \"Non-malaria Infection\" \"Uncomplicated Malaria\" \"Non-malaria Infection\"\n",
       "[1141] \"Non-malaria Infection\" \"Non-malaria Infection\" \"Non-malaria Infection\"\n",
       "[1144] \"Non-malaria Infection\" \"Non-malaria Infection\" \"Non-malaria Infection\"\n",
       "[1147] \"Non-malaria Infection\" \"Non-malaria Infection\" \"Uncomplicated Malaria\"\n",
       "[1150] \"Non-malaria Infection\" \"Uncomplicated Malaria\" \"Uncomplicated Malaria\"\n",
       "[1153] \"Non-malaria Infection\" \"Non-malaria Infection\" \"Non-malaria Infection\"\n",
       "[1156] \"Non-malaria Infection\" \"Non-malaria Infection\" \"Non-malaria Infection\"\n",
       "[1159] \"Uncomplicated Malaria\" \"Non-malaria Infection\" \"Non-malaria Infection\"\n",
       "[1162] \"Uncomplicated Malaria\" \"Non-malaria Infection\" \"Non-malaria Infection\"\n",
       "[1165] \"Non-malaria Infection\" \"Non-malaria Infection\" \"Non-malaria Infection\"\n",
       "[1168] \"Non-malaria Infection\" \"Non-malaria Infection\" \"Non-malaria Infection\"\n",
       "[1171] \"Uncomplicated Malaria\" \"Uncomplicated Malaria\" \"Non-malaria Infection\"\n",
       "[1174] \"Non-malaria Infection\" \"Non-malaria Infection\" \"Non-malaria Infection\"\n",
       "[1177] \"Non-malaria Infection\" \"Non-malaria Infection\" \"Non-malaria Infection\"\n",
       "[1180] \"Uncomplicated Malaria\" \"Non-malaria Infection\" \"Uncomplicated Malaria\"\n",
       "[1183] \"Non-malaria Infection\" \"Non-malaria Infection\" \"Non-malaria Infection\"\n",
       "[1186] \"Non-malaria Infection\" \"Non-malaria Infection\" \"Non-malaria Infection\"\n",
       "[1189] \"Non-malaria Infection\" \"Non-malaria Infection\" \"Non-malaria Infection\"\n",
       "[1192] \"Non-malaria Infection\" \"Non-malaria Infection\" \"Non-malaria Infection\"\n",
       "[1195] \"Non-malaria Infection\" \"Non-malaria Infection\" \"Non-malaria Infection\"\n",
       "[1198] \"Non-malaria Infection\" \"Non-malaria Infection\" \"Non-malaria Infection\"\n",
       "[1201] \"Non-malaria Infection\" \"Non-malaria Infection\" \"Non-malaria Infection\"\n",
       "[1204] \"Non-malaria Infection\" \"Non-malaria Infection\" \"Non-malaria Infection\"\n",
       "[1207] \"Non-malaria Infection\" \"Uncomplicated Malaria\" \"Non-malaria Infection\"\n",
       "[1210] \"Non-malaria Infection\" \"Uncomplicated Malaria\" \"Uncomplicated Malaria\"\n",
       "[1213] \"Non-malaria Infection\" \"Uncomplicated Malaria\" \"Uncomplicated Malaria\"\n",
       "[1216] \"Uncomplicated Malaria\" \"Non-malaria Infection\" \"Non-malaria Infection\"\n",
       "[1219] \"Non-malaria Infection\" \"Non-malaria Infection\" \"Non-malaria Infection\"\n",
       "[1222] \"Uncomplicated Malaria\" \"Non-malaria Infection\" \"Non-malaria Infection\"\n",
       "[1225] \"Uncomplicated Malaria\" \"Uncomplicated Malaria\" \"Non-malaria Infection\"\n",
       "[1228] \"Uncomplicated Malaria\" \"Non-malaria Infection\" \"Non-malaria Infection\"\n",
       "[1231] \"Non-malaria Infection\" \"Uncomplicated Malaria\" \"Non-malaria Infection\"\n",
       "[1234] \"Non-malaria Infection\" \"Uncomplicated Malaria\" \"Non-malaria Infection\"\n",
       "[1237] \"Uncomplicated Malaria\" \"Uncomplicated Malaria\" \"Non-malaria Infection\"\n",
       "[1240] \"Uncomplicated Malaria\" \"Non-malaria Infection\" \"Non-malaria Infection\"\n",
       "[1243] \"Non-malaria Infection\" \"Non-malaria Infection\" \"Non-malaria Infection\"\n",
       "[1246] \"Uncomplicated Malaria\" \"Non-malaria Infection\" \"Non-malaria Infection\"\n",
       "[1249] \"Non-malaria Infection\" \"Non-malaria Infection\" \"Non-malaria Infection\"\n",
       "[1252] \"Non-malaria Infection\" \"Non-malaria Infection\" \"Non-malaria Infection\"\n",
       "[1255] \"Uncomplicated Malaria\" \"Non-malaria Infection\" \"Non-malaria Infection\"\n",
       "[1258] \"Non-malaria Infection\" \"Non-malaria Infection\" \"Uncomplicated Malaria\"\n",
       "[1261] \"Non-malaria Infection\" \"Non-malaria Infection\" \"Non-malaria Infection\"\n",
       "[1264] \"Non-malaria Infection\" \"Non-malaria Infection\" \"Non-malaria Infection\"\n",
       "[1267] \"Non-malaria Infection\" \"Non-malaria Infection\" \"Uncomplicated Malaria\"\n",
       "[1270] \"Non-malaria Infection\" \"Non-malaria Infection\" \"Non-malaria Infection\"\n",
       "[1273] \"Uncomplicated Malaria\" \"Uncomplicated Malaria\" \"Non-malaria Infection\"\n",
       "[1276] \"Non-malaria Infection\" \"Non-malaria Infection\" \"Non-malaria Infection\"\n",
       "[1279] \"Non-malaria Infection\" \"Non-malaria Infection\" \"Non-malaria Infection\"\n",
       "[1282] \"Non-malaria Infection\" \"Non-malaria Infection\" \"Non-malaria Infection\"\n",
       "[1285] \"Non-malaria Infection\" \"Non-malaria Infection\" \"Non-malaria Infection\"\n",
       "[1288] \"Uncomplicated Malaria\" \"Non-malaria Infection\" \"Non-malaria Infection\"\n",
       "[1291] \"Non-malaria Infection\" \"Non-malaria Infection\" \"Non-malaria Infection\"\n",
       "[1294] \"Uncomplicated Malaria\" \"Non-malaria Infection\" \"Non-malaria Infection\"\n",
       "[1297] \"Non-malaria Infection\" \"Non-malaria Infection\" \"Non-malaria Infection\"\n",
       "[1300] \"Uncomplicated Malaria\" \"Non-malaria Infection\" \"Non-malaria Infection\"\n",
       "[1303] \"Uncomplicated Malaria\" \"Non-malaria Infection\" \"Non-malaria Infection\"\n",
       "[1306] \"Uncomplicated Malaria\" \"Non-malaria Infection\" \"Uncomplicated Malaria\"\n",
       "[1309] \"Non-malaria Infection\" \"Non-malaria Infection\" \"Non-malaria Infection\"\n",
       "[1312] \"Non-malaria Infection\" \"Uncomplicated Malaria\" \"Non-malaria Infection\"\n",
       "[1315] \"Uncomplicated Malaria\" \"Non-malaria Infection\" \"Non-malaria Infection\"\n",
       "[1318] \"Non-malaria Infection\" \"Non-malaria Infection\" \"Non-malaria Infection\"\n",
       "[1321] \"Non-malaria Infection\" \"Non-malaria Infection\" \"Non-malaria Infection\"\n",
       "[1324] \"Uncomplicated Malaria\" \"Uncomplicated Malaria\" \"Non-malaria Infection\"\n",
       "[1327] \"Non-malaria Infection\" \"Uncomplicated Malaria\" \"Non-malaria Infection\"\n",
       "[1330] \"Non-malaria Infection\" \"Non-malaria Infection\" \"Non-malaria Infection\"\n",
       "[1333] \"Non-malaria Infection\" \"Non-malaria Infection\" \"Non-malaria Infection\"\n",
       "[1336] \"Non-malaria Infection\" \"Non-malaria Infection\" \"Uncomplicated Malaria\"\n",
       "[1339] \"Non-malaria Infection\" \"Uncomplicated Malaria\" \"Uncomplicated Malaria\"\n",
       "[1342] \"Non-malaria Infection\" \"Non-malaria Infection\" \"Non-malaria Infection\"\n",
       "[1345] \"Non-malaria Infection\" \"Non-malaria Infection\" \"Non-malaria Infection\"\n",
       "[1348] \"Uncomplicated Malaria\" \"Uncomplicated Malaria\" \"Non-malaria Infection\"\n",
       "[1351] \"Non-malaria Infection\" \"Non-malaria Infection\" \"Non-malaria Infection\"\n",
       "[1354] \"Non-malaria Infection\" \"Non-malaria Infection\" \"Non-malaria Infection\"\n",
       "[1357] \"Non-malaria Infection\" \"Non-malaria Infection\" \"Non-malaria Infection\"\n",
       "[1360] \"Non-malaria Infection\" \"Non-malaria Infection\" \"Non-malaria Infection\"\n",
       "[1363] \"Non-malaria Infection\" \"Non-malaria Infection\" \"Non-malaria Infection\"\n",
       "[1366] \"Non-malaria Infection\" \"Non-malaria Infection\" \"Non-malaria Infection\"\n",
       "[1369] \"Non-malaria Infection\" \"Non-malaria Infection\" \"Non-malaria Infection\"\n",
       "[1372] \"Non-malaria Infection\" \"Non-malaria Infection\" \"Non-malaria Infection\"\n",
       "[1375] \"Non-malaria Infection\" \"Non-malaria Infection\" \"Non-malaria Infection\"\n",
       "[1378] \"Non-malaria Infection\" \"Non-malaria Infection\" \"Non-malaria Infection\"\n",
       "[1381] \"Non-malaria Infection\" \"Non-malaria Infection\" \"Non-malaria Infection\"\n",
       "[1384] \"Non-malaria Infection\" \"Non-malaria Infection\" \"Non-malaria Infection\"\n",
       "[1387] \"Non-malaria Infection\" \"Non-malaria Infection\" \"Non-malaria Infection\"\n",
       "[1390] \"Non-malaria Infection\" \"Non-malaria Infection\" \"Non-malaria Infection\"\n",
       "[1393] \"Non-malaria Infection\" \"Non-malaria Infection\" \"Non-malaria Infection\"\n",
       "[1396] \"Non-malaria Infection\" \"Non-malaria Infection\" \"Non-malaria Infection\"\n",
       "[1399] \"Uncomplicated Malaria\" \"Non-malaria Infection\" \"Non-malaria Infection\"\n",
       "[1402] \"Non-malaria Infection\" \"Non-malaria Infection\" \"Non-malaria Infection\"\n",
       "[1405] \"Non-malaria Infection\" \"Non-malaria Infection\" \"Non-malaria Infection\"\n",
       "[1408] \"Non-malaria Infection\" \"Non-malaria Infection\" \"Non-malaria Infection\"\n",
       "[1411] \"Non-malaria Infection\" \"Non-malaria Infection\" \"Non-malaria Infection\"\n",
       "[1414] \"Non-malaria Infection\" \"Non-malaria Infection\" \"Non-malaria Infection\"\n",
       "[1417] \"Non-malaria Infection\" \"Non-malaria Infection\" \"Non-malaria Infection\"\n",
       "[1420] \"Non-malaria Infection\" \"Non-malaria Infection\" \"Non-malaria Infection\"\n",
       "[1423] \"Non-malaria Infection\" \"Non-malaria Infection\" \"Non-malaria Infection\"\n",
       "[1426] \"Non-malaria Infection\" \"Non-malaria Infection\" \"Non-malaria Infection\"\n",
       "[1429] \"Non-malaria Infection\" \"Non-malaria Infection\" \"Non-malaria Infection\"\n",
       "[1432] \"Non-malaria Infection\" \"Non-malaria Infection\" \"Non-malaria Infection\"\n",
       "[1435] \"Non-malaria Infection\" \"Non-malaria Infection\" \"Non-malaria Infection\"\n",
       "[1438] \"Non-malaria Infection\" \"Non-malaria Infection\" \"Non-malaria Infection\"\n",
       "[1441] \"Non-malaria Infection\" \"Non-malaria Infection\" \"Non-malaria Infection\"\n",
       "[1444] \"Non-malaria Infection\" \"Non-malaria Infection\" \"Non-malaria Infection\"\n",
       "[1447] \"Non-malaria Infection\" \"Non-malaria Infection\" \"Non-malaria Infection\"\n",
       "[1450] \"Non-malaria Infection\" \"Non-malaria Infection\" \"Non-malaria Infection\"\n",
       "[1453] \"Non-malaria Infection\" \"Non-malaria Infection\" \"Non-malaria Infection\"\n",
       "[1456] \"Non-malaria Infection\" \"Non-malaria Infection\" \"Non-malaria Infection\"\n",
       "[1459] \"Non-malaria Infection\" \"Non-malaria Infection\" \"Non-malaria Infection\"\n",
       "[1462] \"Non-malaria Infection\" \"Non-malaria Infection\" \"Non-malaria Infection\"\n",
       "[1465] \"Non-malaria Infection\" \"Non-malaria Infection\" \"Non-malaria Infection\"\n",
       "[1468] \"Non-malaria Infection\" \"Non-malaria Infection\" \"Non-malaria Infection\"\n",
       "[1471] \"Non-malaria Infection\" \"Non-malaria Infection\" \"Non-malaria Infection\"\n",
       "[1474] \"Non-malaria Infection\" \"Non-malaria Infection\" \"Non-malaria Infection\"\n",
       "[1477] \"Non-malaria Infection\" \"Non-malaria Infection\" \"Non-malaria Infection\"\n",
       "[1480] \"Non-malaria Infection\" \"Uncomplicated Malaria\" \"Non-malaria Infection\"\n",
       "[1483] \"Non-malaria Infection\" \"Non-malaria Infection\" \"Non-malaria Infection\"\n",
       "[1486] \"Non-malaria Infection\" \"Non-malaria Infection\" \"Non-malaria Infection\"\n",
       "[1489] \"Non-malaria Infection\" \"Non-malaria Infection\" \"Non-malaria Infection\"\n",
       "[1492] \"Non-malaria Infection\" \"Non-malaria Infection\" \"Non-malaria Infection\"\n",
       "[1495] \"Non-malaria Infection\" \"Non-malaria Infection\" \"Non-malaria Infection\"\n",
       "[1498] \"Non-malaria Infection\" \"Non-malaria Infection\" \"Non-malaria Infection\"\n",
       "[1501] \"Non-malaria Infection\" \"Non-malaria Infection\" \"Non-malaria Infection\"\n",
       "[1504] \"Non-malaria Infection\" \"Non-malaria Infection\" \"Non-malaria Infection\"\n",
       "[1507] \"Non-malaria Infection\" \"Non-malaria Infection\" \"Non-malaria Infection\"\n",
       "[1510] \"Non-malaria Infection\" \"Non-malaria Infection\" \"Non-malaria Infection\"\n",
       "[1513] \"Non-malaria Infection\" \"Non-malaria Infection\" \"Non-malaria Infection\"\n",
       "[1516] \"Non-malaria Infection\" \"Non-malaria Infection\" \"Non-malaria Infection\"\n",
       "[1519] \"Uncomplicated Malaria\" \"Non-malaria Infection\" \"Non-malaria Infection\"\n",
       "[1522] \"Non-malaria Infection\" \"Non-malaria Infection\" \"Non-malaria Infection\"\n",
       "[1525] \"Non-malaria Infection\" \"Non-malaria Infection\" \"Non-malaria Infection\"\n",
       "[1528] \"Non-malaria Infection\" \"Non-malaria Infection\" \"Non-malaria Infection\"\n",
       "[1531] \"Non-malaria Infection\" \"Non-malaria Infection\" \"Non-malaria Infection\"\n",
       "[1534] \"Non-malaria Infection\" \"Non-malaria Infection\" \"Non-malaria Infection\"\n",
       "[1537] \"Non-malaria Infection\" \"Non-malaria Infection\" \"Non-malaria Infection\"\n",
       "[1540] \"Non-malaria Infection\" \"Non-malaria Infection\" \"Non-malaria Infection\"\n",
       "[1543] \"Non-malaria Infection\" \"Non-malaria Infection\" \"Non-malaria Infection\"\n",
       "[1546] \"Non-malaria Infection\" \"Non-malaria Infection\" \"Non-malaria Infection\"\n",
       "[1549] \"Non-malaria Infection\" \"Non-malaria Infection\" \"Non-malaria Infection\"\n",
       "[1552] \"Non-malaria Infection\" \"Non-malaria Infection\" \"Non-malaria Infection\"\n",
       "[1555] \"Non-malaria Infection\" \"Non-malaria Infection\" \"Non-malaria Infection\"\n",
       "[1558] \"Non-malaria Infection\" \"Non-malaria Infection\" \"Non-malaria Infection\"\n",
       "[1561] \"Non-malaria Infection\" \"Non-malaria Infection\" \"Non-malaria Infection\"\n",
       "[1564] \"Non-malaria Infection\" \"Non-malaria Infection\" \"Non-malaria Infection\"\n",
       "[1567] \"Non-malaria Infection\" \"Non-malaria Infection\" \"Uncomplicated Malaria\"\n",
       "[1570] \"Non-malaria Infection\" \"Non-malaria Infection\" \"Non-malaria Infection\"\n",
       "[1573] \"Non-malaria Infection\" \"Non-malaria Infection\" \"Non-malaria Infection\"\n",
       "[1576] \"Non-malaria Infection\" \"Non-malaria Infection\" \"Non-malaria Infection\"\n",
       "[1579] \"Non-malaria Infection\" \"Non-malaria Infection\" \"Non-malaria Infection\"\n",
       "[1582] \"Non-malaria Infection\" \"Non-malaria Infection\" \"Non-malaria Infection\"\n",
       "[1585] \"Non-malaria Infection\" \"Non-malaria Infection\" \"Non-malaria Infection\"\n",
       "[1588] \"Non-malaria Infection\" \"Non-malaria Infection\" \"Non-malaria Infection\"\n",
       "[1591] \"Non-malaria Infection\" \"Non-malaria Infection\" \"Non-malaria Infection\"\n",
       "[1594] \"Non-malaria Infection\" \"Non-malaria Infection\" \"Non-malaria Infection\"\n",
       "[1597] \"Non-malaria Infection\" \"Non-malaria Infection\" \"Non-malaria Infection\"\n",
       "[1600] \"Non-malaria Infection\" \"Non-malaria Infection\" \"Non-malaria Infection\"\n",
       "[1603] \"Non-malaria Infection\" \"Non-malaria Infection\" \"Non-malaria Infection\"\n",
       "[1606] \"Non-malaria Infection\" \"Non-malaria Infection\" \"Non-malaria Infection\"\n",
       "[1609] \"Non-malaria Infection\" \"Non-malaria Infection\" \"Non-malaria Infection\"\n",
       "[1612] \"Non-malaria Infection\" \"Non-malaria Infection\" \"Non-malaria Infection\"\n",
       "[1615] \"Non-malaria Infection\" \"Uncomplicated Malaria\" \"Uncomplicated Malaria\"\n",
       "[1618] \"Non-malaria Infection\" \"Non-malaria Infection\" \"Uncomplicated Malaria\"\n",
       "[1621] \"Uncomplicated Malaria\" \"Uncomplicated Malaria\" \"Uncomplicated Malaria\"\n",
       "[1624] \"Non-malaria Infection\" \"Uncomplicated Malaria\" \"Non-malaria Infection\"\n",
       "[1627] \"Uncomplicated Malaria\" \"Uncomplicated Malaria\" \"Uncomplicated Malaria\"\n",
       "[1630] \"Non-malaria Infection\" \"Non-malaria Infection\" \"Uncomplicated Malaria\"\n",
       "[1633] \"Uncomplicated Malaria\" \"Uncomplicated Malaria\" \"Uncomplicated Malaria\"\n",
       "[1636] \"Non-malaria Infection\" \"Non-malaria Infection\" \"Non-malaria Infection\"\n",
       "[1639] \"Uncomplicated Malaria\" \"Non-malaria Infection\" \"Uncomplicated Malaria\"\n",
       "[1642] \"Non-malaria Infection\" \"Non-malaria Infection\" \"Uncomplicated Malaria\"\n",
       "[1645] \"Non-malaria Infection\" \"Non-malaria Infection\" \"Uncomplicated Malaria\"\n",
       "[1648] \"Uncomplicated Malaria\" \"Uncomplicated Malaria\" \"Non-malaria Infection\"\n",
       "[1651] \"Uncomplicated Malaria\" \"Uncomplicated Malaria\" \"Non-malaria Infection\"\n",
       "[1654] \"Non-malaria Infection\" \"Non-malaria Infection\" \"Non-malaria Infection\"\n",
       "[1657] \"Uncomplicated Malaria\" \"Uncomplicated Malaria\" \"Non-malaria Infection\"\n",
       "[1660] \"Non-malaria Infection\" \"Non-malaria Infection\" \"Uncomplicated Malaria\"\n",
       "[1663] \"Non-malaria Infection\" \"Non-malaria Infection\" \"Non-malaria Infection\"\n",
       "[1666] \"Non-malaria Infection\" \"Non-malaria Infection\" \"Non-malaria Infection\"\n",
       "[1669] \"Non-malaria Infection\" \"Non-malaria Infection\" \"Non-malaria Infection\"\n",
       "[1672] \"Non-malaria Infection\" \"Non-malaria Infection\" \"Non-malaria Infection\"\n",
       "[1675] \"Uncomplicated Malaria\" \"Non-malaria Infection\" \"Non-malaria Infection\"\n",
       "[1678] \"Non-malaria Infection\" \"Non-malaria Infection\" \"Uncomplicated Malaria\"\n",
       "[1681] \"Uncomplicated Malaria\" \"Uncomplicated Malaria\" \"Non-malaria Infection\"\n",
       "[1684] \"Non-malaria Infection\" \"Non-malaria Infection\" \"Non-malaria Infection\"\n",
       "[1687] \"Non-malaria Infection\" \"Non-malaria Infection\" \"Non-malaria Infection\"\n",
       "[1690] \"Non-malaria Infection\" \"Non-malaria Infection\" \"Uncomplicated Malaria\"\n",
       "[1693] \"Non-malaria Infection\" \"Non-malaria Infection\" \"Non-malaria Infection\"\n",
       "[1696] \"Non-malaria Infection\" \"Non-malaria Infection\" \"Non-malaria Infection\"\n",
       "[1699] \"Non-malaria Infection\" \"Non-malaria Infection\" \"Non-malaria Infection\"\n",
       "[1702] \"Non-malaria Infection\" \"Non-malaria Infection\" \"Uncomplicated Malaria\"\n",
       "[1705] \"Uncomplicated Malaria\" \"Non-malaria Infection\" \"Uncomplicated Malaria\"\n",
       "[1708] \"Non-malaria Infection\" \"Non-malaria Infection\" \"Uncomplicated Malaria\"\n",
       "[1711] \"Uncomplicated Malaria\" \"Non-malaria Infection\" \"Non-malaria Infection\"\n",
       "[1714] \"Non-malaria Infection\" \"Non-malaria Infection\" \"Uncomplicated Malaria\"\n",
       "[1717] \"Non-malaria Infection\" \"Non-malaria Infection\" \"Non-malaria Infection\"\n",
       "[1720] \"Non-malaria Infection\" \"Non-malaria Infection\" \"Uncomplicated Malaria\"\n",
       "[1723] \"Non-malaria Infection\" \"Uncomplicated Malaria\" \"Uncomplicated Malaria\"\n",
       "[1726] \"Non-malaria Infection\" \"Uncomplicated Malaria\" \"Uncomplicated Malaria\"\n",
       "[1729] \"Uncomplicated Malaria\" \"Uncomplicated Malaria\" \"Uncomplicated Malaria\"\n",
       "[1732] \"Uncomplicated Malaria\" \"Uncomplicated Malaria\" \"Uncomplicated Malaria\"\n",
       "[1735] \"Uncomplicated Malaria\" \"Uncomplicated Malaria\" \"Non-malaria Infection\"\n",
       "[1738] \"Uncomplicated Malaria\" \"Uncomplicated Malaria\" \"Uncomplicated Malaria\"\n",
       "[1741] \"Non-malaria Infection\" \"Uncomplicated Malaria\" \"Uncomplicated Malaria\"\n",
       "[1744] \"Non-malaria Infection\" \"Uncomplicated Malaria\" \"Non-malaria Infection\"\n",
       "[1747] \"Uncomplicated Malaria\" \"Uncomplicated Malaria\" \"Uncomplicated Malaria\"\n",
       "[1750] \"Uncomplicated Malaria\" \"Uncomplicated Malaria\" \"Non-malaria Infection\"\n",
       "[1753] \"Non-malaria Infection\" \"Uncomplicated Malaria\" \"Uncomplicated Malaria\"\n",
       "[1756] \"Uncomplicated Malaria\" \"Non-malaria Infection\" \"Non-malaria Infection\"\n",
       "[1759] \"Uncomplicated Malaria\" \"Non-malaria Infection\" \"Uncomplicated Malaria\"\n",
       "[1762] \"Uncomplicated Malaria\" \"Uncomplicated Malaria\" \"Uncomplicated Malaria\"\n",
       "[1765] \"Uncomplicated Malaria\" \"Non-malaria Infection\" \"Uncomplicated Malaria\"\n",
       "[1768] \"Uncomplicated Malaria\" \"Non-malaria Infection\" \"Uncomplicated Malaria\"\n",
       "[1771] \"Uncomplicated Malaria\" \"Uncomplicated Malaria\" \"Non-malaria Infection\"\n",
       "[1774] \"Uncomplicated Malaria\" \"Uncomplicated Malaria\" \"Non-malaria Infection\"\n",
       "[1777] \"Non-malaria Infection\" \"Uncomplicated Malaria\" \"Uncomplicated Malaria\"\n",
       "[1780] \"Non-malaria Infection\" \"Uncomplicated Malaria\" \"Uncomplicated Malaria\"\n",
       "[1783] \"Uncomplicated Malaria\" \"Uncomplicated Malaria\" \"Uncomplicated Malaria\"\n",
       "[1786] \"Uncomplicated Malaria\" \"Uncomplicated Malaria\" \"Uncomplicated Malaria\"\n",
       "[1789] \"Uncomplicated Malaria\" \"Uncomplicated Malaria\" \"Uncomplicated Malaria\"\n",
       "[1792] \"Uncomplicated Malaria\" \"Uncomplicated Malaria\" \"Uncomplicated Malaria\"\n",
       "[1795] \"Uncomplicated Malaria\" \"Uncomplicated Malaria\" \"Uncomplicated Malaria\"\n",
       "[1798] \"Uncomplicated Malaria\" \"Uncomplicated Malaria\" \"Uncomplicated Malaria\"\n",
       "[1801] \"Uncomplicated Malaria\" \"Uncomplicated Malaria\" \"Uncomplicated Malaria\"\n",
       "[1804] \"Uncomplicated Malaria\" \"Uncomplicated Malaria\" \"Uncomplicated Malaria\"\n",
       "[1807] \"Uncomplicated Malaria\" \"Non-malaria Infection\" \"Uncomplicated Malaria\"\n",
       "[1810] \"Uncomplicated Malaria\" \"Non-malaria Infection\" \"Uncomplicated Malaria\"\n",
       "[1813] \"Uncomplicated Malaria\" \"Non-malaria Infection\" \"Non-malaria Infection\"\n",
       "[1816] \"Non-malaria Infection\" \"Uncomplicated Malaria\" \"Uncomplicated Malaria\"\n",
       "[1819] \"Non-malaria Infection\" \"Uncomplicated Malaria\" \"Uncomplicated Malaria\"\n",
       "[1822] \"Uncomplicated Malaria\" \"Uncomplicated Malaria\" \"Uncomplicated Malaria\"\n",
       "[1825] \"Uncomplicated Malaria\" \"Uncomplicated Malaria\" \"Uncomplicated Malaria\"\n",
       "[1828] \"Uncomplicated Malaria\" \"Uncomplicated Malaria\" \"Uncomplicated Malaria\"\n",
       "[1831] \"Non-malaria Infection\" \"Uncomplicated Malaria\" \"Uncomplicated Malaria\"\n",
       "[1834] \"Uncomplicated Malaria\" \"Non-malaria Infection\" \"Non-malaria Infection\"\n",
       "[1837] \"Non-malaria Infection\" \"Uncomplicated Malaria\" \"Uncomplicated Malaria\"\n",
       "[1840] \"Uncomplicated Malaria\" \"Uncomplicated Malaria\" \"Non-malaria Infection\"\n",
       "[1843] \"Uncomplicated Malaria\" \"Uncomplicated Malaria\" \"Uncomplicated Malaria\"\n",
       "[1846] \"Uncomplicated Malaria\" \"Uncomplicated Malaria\" \"Uncomplicated Malaria\"\n",
       "[1849] \"Uncomplicated Malaria\" \"Uncomplicated Malaria\" \"Uncomplicated Malaria\"\n",
       "[1852] \"Uncomplicated Malaria\" \"Uncomplicated Malaria\" \"Uncomplicated Malaria\"\n",
       "[1855] \"Uncomplicated Malaria\" \"Uncomplicated Malaria\" \"Uncomplicated Malaria\"\n",
       "[1858] \"Uncomplicated Malaria\" \"Uncomplicated Malaria\" \"Uncomplicated Malaria\"\n",
       "[1861] \"Uncomplicated Malaria\" \"Uncomplicated Malaria\" \"Non-malaria Infection\"\n",
       "[1864] \"Uncomplicated Malaria\" \"Uncomplicated Malaria\" \"Non-malaria Infection\"\n",
       "[1867] \"Uncomplicated Malaria\" \"Non-malaria Infection\" \"Non-malaria Infection\"\n",
       "[1870] \"Uncomplicated Malaria\" \"Uncomplicated Malaria\" \"Uncomplicated Malaria\"\n",
       "[1873] \"Non-malaria Infection\" \"Uncomplicated Malaria\" \"Uncomplicated Malaria\"\n",
       "[1876] \"Uncomplicated Malaria\" \"Uncomplicated Malaria\" \"Uncomplicated Malaria\"\n",
       "[1879] \"Non-malaria Infection\" \"Non-malaria Infection\" \"Non-malaria Infection\"\n",
       "[1882] \"Uncomplicated Malaria\" \"Non-malaria Infection\" \"Uncomplicated Malaria\"\n",
       "[1885] \"Uncomplicated Malaria\" \"Uncomplicated Malaria\" \"Non-malaria Infection\"\n",
       "[1888] \"Uncomplicated Malaria\" \"Uncomplicated Malaria\" \"Uncomplicated Malaria\"\n",
       "[1891] \"Uncomplicated Malaria\" \"Uncomplicated Malaria\" \"Uncomplicated Malaria\"\n",
       "[1894] \"Uncomplicated Malaria\" \"Uncomplicated Malaria\" \"Uncomplicated Malaria\"\n",
       "[1897] \"Uncomplicated Malaria\" \"Uncomplicated Malaria\" \"Uncomplicated Malaria\"\n",
       "[1900] \"Non-malaria Infection\" \"Uncomplicated Malaria\" \"Uncomplicated Malaria\"\n",
       "[1903] \"Uncomplicated Malaria\" \"Non-malaria Infection\" \"Uncomplicated Malaria\"\n",
       "[1906] \"Uncomplicated Malaria\" \"Uncomplicated Malaria\" \"Uncomplicated Malaria\"\n",
       "[1909] \"Uncomplicated Malaria\" \"Non-malaria Infection\" \"Uncomplicated Malaria\"\n",
       "[1912] \"Non-malaria Infection\" \"Non-malaria Infection\" \"Non-malaria Infection\"\n",
       "[1915] \"Non-malaria Infection\" \"Non-malaria Infection\" \"Non-malaria Infection\"\n",
       "[1918] \"Non-malaria Infection\" \"Non-malaria Infection\" \"Non-malaria Infection\"\n",
       "[1921] \"Uncomplicated Malaria\" \"Non-malaria Infection\" \"Non-malaria Infection\"\n",
       "[1924] \"Non-malaria Infection\" \"Non-malaria Infection\" \"Non-malaria Infection\"\n",
       "[1927] \"Uncomplicated Malaria\" \"Uncomplicated Malaria\" \"Uncomplicated Malaria\"\n",
       "[1930] \"Uncomplicated Malaria\" \"Non-malaria Infection\" \"Non-malaria Infection\"\n",
       "[1933] \"Non-malaria Infection\" \"Non-malaria Infection\" \"Non-malaria Infection\"\n",
       "[1936] \"Non-malaria Infection\" \"Non-malaria Infection\" \"Non-malaria Infection\"\n",
       "[1939] \"Non-malaria Infection\" \"Non-malaria Infection\" \"Uncomplicated Malaria\"\n",
       "[1942] \"Non-malaria Infection\" \"Uncomplicated Malaria\" \"Uncomplicated Malaria\"\n",
       "[1945] \"Uncomplicated Malaria\" \"Non-malaria Infection\" \"Non-malaria Infection\"\n",
       "[1948] \"Non-malaria Infection\" \"Non-malaria Infection\" \"Non-malaria Infection\"\n",
       "[1951] \"Non-malaria Infection\" \"Non-malaria Infection\" \"Non-malaria Infection\"\n",
       "[1954] \"Non-malaria Infection\" \"Non-malaria Infection\" \"Non-malaria Infection\"\n",
       "[1957] \"Non-malaria Infection\" \"Non-malaria Infection\" \"Uncomplicated Malaria\"\n",
       "[1960] \"Non-malaria Infection\" \"Non-malaria Infection\" \"Uncomplicated Malaria\"\n",
       "[1963] \"Non-malaria Infection\" \"Non-malaria Infection\" \"Non-malaria Infection\"\n",
       "[1966] \"Non-malaria Infection\" \"Non-malaria Infection\" \"Non-malaria Infection\"\n",
       "[1969] \"Non-malaria Infection\" \"Non-malaria Infection\" \"Non-malaria Infection\"\n",
       "[1972] \"Non-malaria Infection\" \"Non-malaria Infection\" \"Non-malaria Infection\"\n",
       "[1975] \"Non-malaria Infection\" \"Non-malaria Infection\" \"Non-malaria Infection\"\n",
       "[1978] \"Non-malaria Infection\" \"Non-malaria Infection\" \"Non-malaria Infection\"\n",
       "[1981] \"Non-malaria Infection\" \"Non-malaria Infection\" \"Uncomplicated Malaria\"\n",
       "[1984] \"Uncomplicated Malaria\" \"Non-malaria Infection\" \"Non-malaria Infection\"\n",
       "[1987] \"Non-malaria Infection\" \"Non-malaria Infection\" \"Non-malaria Infection\"\n",
       "[1990] \"Uncomplicated Malaria\" \"Uncomplicated Malaria\" \"Non-malaria Infection\"\n",
       "[1993] \"Non-malaria Infection\" \"Non-malaria Infection\" \"Non-malaria Infection\"\n",
       "[1996] \"Non-malaria Infection\" \"Non-malaria Infection\" \"Non-malaria Infection\"\n",
       "[1999] \"Uncomplicated Malaria\" \"Non-malaria Infection\" \"Non-malaria Infection\"\n",
       "[2002] \"Non-malaria Infection\" \"Uncomplicated Malaria\" \"Non-malaria Infection\"\n",
       "[2005] \"Uncomplicated Malaria\" \"Non-malaria Infection\" \"Non-malaria Infection\"\n",
       "[2008] \"Uncomplicated Malaria\" \"Non-malaria Infection\" \"Non-malaria Infection\"\n",
       "[2011] \"Non-malaria Infection\" \"Non-malaria Infection\" \"Non-malaria Infection\"\n",
       "[2014] \"Non-malaria Infection\" \"Non-malaria Infection\" \"Non-malaria Infection\"\n",
       "[2017] \"Uncomplicated Malaria\" \"Non-malaria Infection\" \"Non-malaria Infection\"\n",
       "[2020] \"Uncomplicated Malaria\" \"Non-malaria Infection\" \"Non-malaria Infection\"\n",
       "[2023] \"Non-malaria Infection\" \"Non-malaria Infection\" \"Non-malaria Infection\"\n",
       "[2026] \"Non-malaria Infection\" \"Non-malaria Infection\" \"Non-malaria Infection\"\n",
       "[2029] \"Uncomplicated Malaria\" \"Non-malaria Infection\" \"Uncomplicated Malaria\"\n",
       "[2032] \"Non-malaria Infection\" \"Non-malaria Infection\" \"Non-malaria Infection\"\n",
       "[2035] \"Non-malaria Infection\" \"Uncomplicated Malaria\" \"Non-malaria Infection\"\n",
       "[2038] \"Non-malaria Infection\" \"Non-malaria Infection\" \"Non-malaria Infection\"\n",
       "[2041] \"Uncomplicated Malaria\" \"Non-malaria Infection\" \"Non-malaria Infection\"\n",
       "[2044] \"Non-malaria Infection\" \"Non-malaria Infection\" \"Non-malaria Infection\"\n",
       "[2047] \"Non-malaria Infection\" \"Non-malaria Infection\" \"Uncomplicated Malaria\"\n",
       "[2050] \"Uncomplicated Malaria\" \"Non-malaria Infection\" \"Uncomplicated Malaria\"\n",
       "[2053] \"Non-malaria Infection\" \"Non-malaria Infection\" \"Uncomplicated Malaria\"\n",
       "[2056] \"Non-malaria Infection\" \"Non-malaria Infection\" \"Non-malaria Infection\"\n",
       "[2059] \"Non-malaria Infection\" \"Non-malaria Infection\" \"Uncomplicated Malaria\"\n",
       "[2062] \"Non-malaria Infection\" \"Non-malaria Infection\" \"Non-malaria Infection\"\n",
       "[2065] \"Non-malaria Infection\" \"Non-malaria Infection\" \"Non-malaria Infection\"\n",
       "[2068] \"Non-malaria Infection\" \"Non-malaria Infection\" \"Non-malaria Infection\"\n",
       "[2071] \"Non-malaria Infection\" \"Non-malaria Infection\" \"Non-malaria Infection\"\n",
       "[2074] \"Non-malaria Infection\" \"Non-malaria Infection\" \"Non-malaria Infection\"\n",
       "[2077] \"Uncomplicated Malaria\" \"Uncomplicated Malaria\" \"Non-malaria Infection\"\n",
       "[2080] \"Non-malaria Infection\" \"Non-malaria Infection\" \"Uncomplicated Malaria\"\n",
       "[2083] \"Non-malaria Infection\" \"Uncomplicated Malaria\" \"Non-malaria Infection\"\n",
       "[2086] \"Uncomplicated Malaria\" \"Uncomplicated Malaria\" \"Uncomplicated Malaria\"\n",
       "[2089] \"Non-malaria Infection\" \"Uncomplicated Malaria\" \"Uncomplicated Malaria\"\n",
       "[2092] \"Uncomplicated Malaria\" \"Non-malaria Infection\" \"Non-malaria Infection\"\n",
       "[2095] \"Non-malaria Infection\" \"Non-malaria Infection\" \"Non-malaria Infection\"\n",
       "[2098] \"Non-malaria Infection\" \"Uncomplicated Malaria\" \"Non-malaria Infection\"\n",
       "[2101] \"Uncomplicated Malaria\" \"Uncomplicated Malaria\" \"Uncomplicated Malaria\"\n",
       "[2104] \"Uncomplicated Malaria\" \"Uncomplicated Malaria\" \"Uncomplicated Malaria\"\n",
       "[2107] \"Uncomplicated Malaria\" \"Uncomplicated Malaria\" \"Uncomplicated Malaria\"\n",
       "[2110] \"Non-malaria Infection\" \"Non-malaria Infection\" \"Uncomplicated Malaria\"\n",
       "[2113] \"Uncomplicated Malaria\" \"Uncomplicated Malaria\" \"Non-malaria Infection\"\n",
       "[2116] \"Uncomplicated Malaria\" \"Uncomplicated Malaria\" \"Uncomplicated Malaria\"\n",
       "[2119] \"Uncomplicated Malaria\" \"Non-malaria Infection\" \"Uncomplicated Malaria\"\n",
       "[2122] \"Uncomplicated Malaria\" \"Non-malaria Infection\" \"Non-malaria Infection\"\n",
       "[2125] \"Uncomplicated Malaria\" \"Uncomplicated Malaria\" \"Uncomplicated Malaria\"\n",
       "[2128] \"Uncomplicated Malaria\" \"Uncomplicated Malaria\" \"Non-malaria Infection\"\n",
       "[2131] \"Non-malaria Infection\" \"Non-malaria Infection\" \"Uncomplicated Malaria\"\n",
       "[2134] \"Uncomplicated Malaria\" \"Non-malaria Infection\" \"Non-malaria Infection\"\n",
       "[2137] \"Non-malaria Infection\" \"Uncomplicated Malaria\" \"Uncomplicated Malaria\"\n",
       "[2140] \"Uncomplicated Malaria\" \"Uncomplicated Malaria\" \"Uncomplicated Malaria\"\n",
       "[2143] \"Non-malaria Infection\" \"Non-malaria Infection\" \"Uncomplicated Malaria\"\n",
       "[2146] \"Non-malaria Infection\" \"Non-malaria Infection\" \"Non-malaria Infection\"\n",
       "[2149] \"Non-malaria Infection\" \"Non-malaria Infection\" \"Uncomplicated Malaria\"\n",
       "[2152] \"Non-malaria Infection\" \"Non-malaria Infection\" \"Non-malaria Infection\"\n",
       "[2155] \"Uncomplicated Malaria\" \"Uncomplicated Malaria\" \"Uncomplicated Malaria\"\n",
       "[2158] \"Non-malaria Infection\" \"Non-malaria Infection\" \"Non-malaria Infection\"\n",
       "[2161] \"Uncomplicated Malaria\" \"Uncomplicated Malaria\" \"Non-malaria Infection\"\n",
       "[2164] \"Uncomplicated Malaria\" \"Non-malaria Infection\" \"Uncomplicated Malaria\"\n",
       "[2167] \"Uncomplicated Malaria\" \"Uncomplicated Malaria\" \"Uncomplicated Malaria\"\n",
       "[2170] \"Uncomplicated Malaria\" \"Uncomplicated Malaria\" \"Non-malaria Infection\"\n",
       "[2173] \"Uncomplicated Malaria\" \"Non-malaria Infection\" \"Non-malaria Infection\"\n",
       "[2176] \"Uncomplicated Malaria\" \"Uncomplicated Malaria\" \"Non-malaria Infection\"\n",
       "[2179] \"Uncomplicated Malaria\" \"Uncomplicated Malaria\" \"Uncomplicated Malaria\"\n",
       "[2182] \"Non-malaria Infection\" \"Non-malaria Infection\" \"Uncomplicated Malaria\"\n",
       "[2185] \"Uncomplicated Malaria\" \"Uncomplicated Malaria\" \"Uncomplicated Malaria\"\n",
       "[2188] \"Uncomplicated Malaria\" \"Non-malaria Infection\" \"Non-malaria Infection\"\n",
       "[2191] \"Non-malaria Infection\" \"Non-malaria Infection\" \"Uncomplicated Malaria\"\n",
       "[2194] \"Uncomplicated Malaria\" \"Non-malaria Infection\" \"Uncomplicated Malaria\"\n",
       "[2197] \"Non-malaria Infection\" \"Non-malaria Infection\" \"Non-malaria Infection\"\n",
       "[2200] \"Uncomplicated Malaria\" \"Uncomplicated Malaria\" \"Non-malaria Infection\"\n",
       "[2203] \"Uncomplicated Malaria\" \"Non-malaria Infection\" \"Non-malaria Infection\"\n",
       "[2206] \"Non-malaria Infection\" \"Non-malaria Infection\""
      ]
     },
     "metadata": {},
     "output_type": "display_data"
    }
   ],
   "source": [
    "case_data[,'Clinical_Diagnosis']"
   ]
  },
  {
   "cell_type": "code",
   "execution_count": 77,
   "id": "c792b696-6b8e-4509-82fa-3b77b7766dac",
   "metadata": {},
   "outputs": [
    {
     "data": {
      "text/html": [
       "<style>\n",
       ".list-inline {list-style: none; margin:0; padding: 0}\n",
       ".list-inline>li {display: inline-block}\n",
       ".list-inline>li:not(:last-child)::after {content: \"\\00b7\"; padding: 0 .5ex}\n",
       "</style>\n",
       "<ol class=list-inline><li>'Severe Malaria'</li><li>'Uncomplicated Malaria'</li><li>'Non-malaria Infection'</li></ol>\n"
      ],
      "text/latex": [
       "\\begin{enumerate*}\n",
       "\\item 'Severe Malaria'\n",
       "\\item 'Uncomplicated Malaria'\n",
       "\\item 'Non-malaria Infection'\n",
       "\\end{enumerate*}\n"
      ],
      "text/markdown": [
       "1. 'Severe Malaria'\n",
       "2. 'Uncomplicated Malaria'\n",
       "3. 'Non-malaria Infection'\n",
       "\n",
       "\n"
      ],
      "text/plain": [
       "[1] \"Severe Malaria\"        \"Uncomplicated Malaria\" \"Non-malaria Infection\""
      ]
     },
     "metadata": {},
     "output_type": "display_data"
    }
   ],
   "source": [
    "unique(case_data[,'Clinical_Diagnosis'])"
   ]
  },
  {
   "cell_type": "markdown",
   "id": "eb0dba79-4d54-4910-bc68-27160ad67b99",
   "metadata": {},
   "source": [
    "### Export"
   ]
  },
  {
   "cell_type": "code",
   "execution_count": 78,
   "id": "feebec14-d75a-4bcc-98c0-00b9fe1c1361",
   "metadata": {},
   "outputs": [],
   "source": [
    "write.csv(case_data, 'exported_data.csv')"
   ]
  },
  {
   "cell_type": "markdown",
   "id": "feb1f3a6-43af-48f0-ab9c-876ef3f9dcf7",
   "metadata": {},
   "source": [
    "## Data Visualization "
   ]
  },
  {
   "cell_type": "markdown",
   "id": "1a1dc146-cc50-4dd9-b6da-667d9a47232c",
   "metadata": {},
   "source": [
    "### bar chart"
   ]
  },
  {
   "cell_type": "code",
   "execution_count": 82,
   "id": "7f382085-f101-4a74-a8e3-f427bc912ad6",
   "metadata": {},
   "outputs": [
    {
     "data": {
      "image/png": "[encoded data removed]",
      "text/plain": [
       "Plot with title “SNP Count”"
      ]
     },
     "metadata": {
      "image/png": {
       "height": 420,
       "width": 420
      }
     },
     "output_type": "display_data"
    }
   ],
   "source": [
    "#values to be plotted\n",
    "snp_count <- c(17,10,2,13)\n",
    "sample_id <- c(\"P001, P002, P003, P004\")\n",
    "\n",
    "#plot the bar chart\n",
    "barplot(snp_count, names.arg=sample_id, xlab=\"sample\", ylab=\"Number of snps\",\n",
    "        main=\"SNP Count\")"
   ]
  },
  {
   "cell_type": "code",
   "execution_count": 83,
   "id": "d30ea7d0-a813-4808-804f-b1bd11484b88",
   "metadata": {},
   "outputs": [
    {
     "data": {
      "image/png": "[encoded data removed]",
      "text/plain": [
       "Plot with title “SNP Count”"
      ]
     },
     "metadata": {
      "image/png": {
       "height": 420,
       "width": 420
      }
     },
     "output_type": "display_data"
    }
   ],
   "source": [
    "#plot the bar chart\n",
    "barplot(snp_count, names.arg=sample_id, xlab=\"sample\", ylab=\"Number of snps\",\n",
    "        main=\"SNP Count\", col=\"green\")"
   ]
  },
  {
   "cell_type": "markdown",
   "id": "49abf53e-8e95-476c-95aa-470b49d04701",
   "metadata": {},
   "source": [
    "# Create and Combine Characters/Strings"
   ]
  },
  {
   "cell_type": "code",
   "execution_count": 84,
   "id": "a97b31cb-ba71-4034-9656-933249fe0342",
   "metadata": {},
   "outputs": [
    {
     "name": "stdout",
     "output_type": "stream",
     "text": [
      "[1] \"Bioinformatics\"\n",
      "[1] \"TGACGAT\"\n"
     ]
    }
   ],
   "source": [
    "print(\"Bioinformatics\")\n",
    "print(\"TGACGAT\")"
   ]
  },
  {
   "cell_type": "code",
   "execution_count": 85,
   "id": "b96ea612-4a6d-40fa-8cb4-0a8f92eba2aa",
   "metadata": {},
   "outputs": [
    {
     "data": {
      "text/html": [
       "'Bioinformatics'"
      ],
      "text/latex": [
       "'Bioinformatics'"
      ],
      "text/markdown": [
       "'Bioinformatics'"
      ],
      "text/plain": [
       "[1] \"Bioinformatics\""
      ]
     },
     "metadata": {},
     "output_type": "display_data"
    }
   ],
   "source": [
    "\"Bioinformatics\""
   ]
  },
  {
   "cell_type": "code",
   "execution_count": 89,
   "id": "5673c7cd-0c6a-43b2-bbd4-c0352230294e",
   "metadata": {},
   "outputs": [
    {
     "data": {
      "text/html": [
       "'hello world'"
      ],
      "text/latex": [
       "'hello world'"
      ],
      "text/markdown": [
       "'hello world'"
      ],
      "text/plain": [
       "[1] \"hello world\""
      ]
     },
     "metadata": {},
     "output_type": "display_data"
    }
   ],
   "source": [
    "'hello world'"
   ]
  },
  {
   "cell_type": "code",
   "execution_count": 91,
   "id": "34ad1717-990b-4e09-8c34-b2436dfb4c85",
   "metadata": {},
   "outputs": [],
   "source": [
    "mychar <- \"Bioinformatics\""
   ]
  },
  {
   "cell_type": "code",
   "execution_count": 92,
   "id": "a7620fd2-9c65-4813-930c-d6143a28ce0b",
   "metadata": {},
   "outputs": [
    {
     "name": "stdout",
     "output_type": "stream",
     "text": [
      "[1] \"Bioinformatics\"\n"
     ]
    }
   ],
   "source": [
    "print(mychar)"
   ]
  },
  {
   "cell_type": "code",
   "execution_count": 93,
   "id": "b4b3d790-c444-4d7f-96cb-fe1b5ab1e0a7",
   "metadata": {},
   "outputs": [
    {
     "name": "stdout",
     "output_type": "stream",
     "text": [
      "[1] \"TGACGAT\"\n"
     ]
    }
   ],
   "source": [
    "DNA <- \"TGACGAT\"\n",
    "print(DNA)"
   ]
  },
  {
   "cell_type": "code",
   "execution_count": 95,
   "id": "094f6c54-bc93-4dc7-9b55-d73579798d86",
   "metadata": {},
   "outputs": [
    {
     "data": {
      "text/html": [
       "'character'"
      ],
      "text/latex": [
       "'character'"
      ],
      "text/markdown": [
       "'character'"
      ],
      "text/plain": [
       "[1] \"character\""
      ]
     },
     "metadata": {},
     "output_type": "display_data"
    },
    {
     "data": {
      "text/html": [
       "'character'"
      ],
      "text/latex": [
       "'character'"
      ],
      "text/markdown": [
       "'character'"
      ],
      "text/plain": [
       "[1] \"character\""
      ]
     },
     "metadata": {},
     "output_type": "display_data"
    }
   ],
   "source": [
    "typeof(DNA)\n",
    "typeof(mychar)"
   ]
  },
  {
   "cell_type": "code",
   "execution_count": 96,
   "id": "3d4c4ff5-cc41-4ed2-84f6-f2b5814e0655",
   "metadata": {},
   "outputs": [
    {
     "data": {
      "text/html": [
       "7"
      ],
      "text/latex": [
       "7"
      ],
      "text/markdown": [
       "7"
      ],
      "text/plain": [
       "[1] 7"
      ]
     },
     "metadata": {},
     "output_type": "display_data"
    }
   ],
   "source": [
    "nchar(DNA)"
   ]
  },
  {
   "cell_type": "code",
   "execution_count": 99,
   "id": "9f959d79-0bc6-4440-8e1c-6c7ea825b876",
   "metadata": {},
   "outputs": [
    {
     "data": {
      "text/html": [
       "11"
      ],
      "text/latex": [
       "11"
      ],
      "text/markdown": [
       "11"
      ],
      "text/plain": [
       "[1] 11"
      ]
     },
     "metadata": {},
     "output_type": "display_data"
    }
   ],
   "source": [
    "mychar2 <- \"hello world\"\n",
    "nchar(mychar2)"
   ]
  },
  {
   "cell_type": "code",
   "execution_count": 100,
   "id": "2e85d2b0-63d7-4a10-b25e-2852bd6cafbe",
   "metadata": {},
   "outputs": [
    {
     "data": {
      "text/html": [
       "'Bioinformatics Coach'"
      ],
      "text/latex": [
       "'Bioinformatics Coach'"
      ],
      "text/markdown": [
       "'Bioinformatics Coach'"
      ],
      "text/plain": [
       "[1] \"Bioinformatics Coach\""
      ]
     },
     "metadata": {},
     "output_type": "display_data"
    }
   ],
   "source": [
    "firstname <- \"Bioinformatics\"\n",
    "secondname <- \"Coach\"\n",
    "paste(firstname,secondname)"
   ]
  },
  {
   "cell_type": "code",
   "execution_count": 102,
   "id": "ee961e33-40ea-41f8-b3ba-f31711cf093e",
   "metadata": {},
   "outputs": [
    {
     "name": "stdout",
     "output_type": "stream",
     "text": [
      "[1] \"Bioinformatics Coach\"\n"
     ]
    }
   ],
   "source": [
    "fullname <- paste(firstname,secondname)\n",
    "print(fullname)"
   ]
  },
  {
   "cell_type": "code",
   "execution_count": 103,
   "id": "b783cfcd-2126-414c-82ae-0e74c136eb65",
   "metadata": {},
   "outputs": [
    {
     "data": {
      "text/html": [
       "'dna rna sequences'"
      ],
      "text/latex": [
       "'dna rna sequences'"
      ],
      "text/markdown": [
       "'dna rna sequences'"
      ],
      "text/plain": [
       "[1] \"dna rna sequences\""
      ]
     },
     "metadata": {},
     "output_type": "display_data"
    }
   ],
   "source": [
    "paste(\"dna\",\"rna\", \"sequences\")"
   ]
  },
  {
   "cell_type": "code",
   "execution_count": 106,
   "id": "e7691b2a-95da-4cdd-8f58-fca143a57318",
   "metadata": {},
   "outputs": [
    {
     "data": {
      "text/html": [
       "'Bioinformatics, Coach'"
      ],
      "text/latex": [
       "'Bioinformatics, Coach'"
      ],
      "text/markdown": [
       "'Bioinformatics, Coach'"
      ],
      "text/plain": [
       "[1] \"Bioinformatics, Coach\""
      ]
     },
     "metadata": {},
     "output_type": "display_data"
    }
   ],
   "source": [
    "paste(firstname,secondname, sep=\", \")"
   ]
  },
  {
   "cell_type": "code",
   "execution_count": 107,
   "id": "11e45f7a-742b-406b-9916-3de79c8d9429",
   "metadata": {},
   "outputs": [
    {
     "data": {
      "text/html": [
       "' GGATGC TGAACTG'"
      ],
      "text/latex": [
       "' GGATGC TGAACTG'"
      ],
      "text/markdown": [
       "' GGATGC TGAACTG'"
      ],
      "text/plain": [
       "[1] \" GGATGC TGAACTG\""
      ]
     },
     "metadata": {},
     "output_type": "display_data"
    }
   ],
   "source": [
    "DNA1 <- \" GGATGC\"\n",
    "DNA2 <- \"TGAACTG\"\n",
    "paste(DNA1,DNA2)"
   ]
  },
  {
   "cell_type": "code",
   "execution_count": 108,
   "id": "e08d09d6-0560-4eb2-983f-800164eb2d39",
   "metadata": {},
   "outputs": [
    {
     "data": {
      "text/html": [
       "'BioinformaticsCoach'"
      ],
      "text/latex": [
       "'BioinformaticsCoach'"
      ],
      "text/markdown": [
       "'BioinformaticsCoach'"
      ],
      "text/plain": [
       "[1] \"BioinformaticsCoach\""
      ]
     },
     "metadata": {},
     "output_type": "display_data"
    }
   ],
   "source": [
    "paste0(firstname,secondname)"
   ]
  },
  {
   "cell_type": "code",
   "execution_count": 109,
   "id": "8372ac8c-3067-4bc9-98c8-0bc3ab5f5636",
   "metadata": {},
   "outputs": [
    {
     "data": {
      "text/html": [
       "'TCGACGAT'"
      ],
      "text/latex": [
       "'TCGACGAT'"
      ],
      "text/markdown": [
       "'TCGACGAT'"
      ],
      "text/plain": [
       "[1] \"TCGACGAT\""
      ]
     },
     "metadata": {},
     "output_type": "display_data"
    }
   ],
   "source": [
    "toupper(\"tcgacgat\")"
   ]
  },
  {
   "cell_type": "code",
   "execution_count": 110,
   "id": "d320457e-b956-414f-8fb5-09ce10eb72f0",
   "metadata": {},
   "outputs": [
    {
     "data": {
      "text/html": [
       "' ggatgc'"
      ],
      "text/latex": [
       "' ggatgc'"
      ],
      "text/markdown": [
       "' ggatgc'"
      ],
      "text/plain": [
       "[1] \" ggatgc\""
      ]
     },
     "metadata": {},
     "output_type": "display_data"
    }
   ],
   "source": [
    "tolower(DNA1)"
   ]
  },
  {
   "cell_type": "code",
   "execution_count": 111,
   "id": "00808c3c-801f-4e72-91b4-adae88253ad6",
   "metadata": {},
   "outputs": [
    {
     "data": {
      "text/html": [
       "'hello'"
      ],
      "text/latex": [
       "'hello'"
      ],
      "text/markdown": [
       "'hello'"
      ],
      "text/plain": [
       "[1] \"hello\""
      ]
     },
     "metadata": {},
     "output_type": "display_data"
    }
   ],
   "source": [
    "tolower(\"HELLO\")"
   ]
  }
 ],
 "metadata": {
  "kernelspec": {
   "display_name": "R [conda env:base] *",
   "language": "R",
   "name": "conda-base-r"
  },
  "language_info": {
   "codemirror_mode": "r",
   "file_extension": ".r",
   "mimetype": "text/x-r-source",
   "name": "R",
   "pygments_lexer": "r",
   "version": "4.4.3"
  }
 },
 "nbformat": 4,
 "nbformat_minor": 5
}
